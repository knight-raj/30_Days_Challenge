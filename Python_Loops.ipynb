{
 "cells": [
  {
   "cell_type": "markdown",
   "id": "4880549c-2593-4a60-9eef-f61dee1fc9ab",
   "metadata": {},
   "source": [
    "# Loops in Python\n",
    "- Need for loop\n",
    "- while loop\n",
    "- for loop"
   ]
  },
  {
   "cell_type": "code",
   "execution_count": 1,
   "id": "349058b0-9fde-4b98-900e-42ce64b2ed0a",
   "metadata": {},
   "outputs": [
    {
     "name": "stdin",
     "output_type": "stream",
     "text": [
      "Enter the number 5\n"
     ]
    },
    {
     "name": "stdout",
     "output_type": "stream",
     "text": [
      "5\n",
      "10\n",
      "15\n",
      "20\n",
      "25\n",
      "30\n",
      "35\n",
      "40\n",
      "45\n",
      "50\n"
     ]
    }
   ],
   "source": [
    "number = int(input('Enter the number'))\n",
    "i=1\n",
    "\n",
    "while i<11:\n",
    "    print(number *i)\n",
    "    i += 1"
   ]
  },
  {
   "cell_type": "code",
   "execution_count": 2,
   "id": "cfafdb55-36ea-455d-8cf9-7a170a954df3",
   "metadata": {},
   "outputs": [
    {
     "name": "stdout",
     "output_type": "stream",
     "text": [
      "1\n",
      "2\n",
      "limit crossed\n"
     ]
    }
   ],
   "source": [
    "# while loop with else\n",
    "x = 1\n",
    "while x <3:\n",
    "    print(x)\n",
    "    x += 1\n",
    "\n",
    "else:\n",
    "    print('limit crossed')\n",
    "    "
   ]
  },
  {
   "cell_type": "code",
   "execution_count": 4,
   "id": "699c6182-5293-4a57-8aa2-85435e4cfc12",
   "metadata": {},
   "outputs": [
    {
     "name": "stdin",
     "output_type": "stream",
     "text": [
      "Attempt 1/5 - Guess Karo:  5\n"
     ]
    },
    {
     "name": "stdout",
     "output_type": "stream",
     "text": [
      "Galat! Guess Higher.\n"
     ]
    },
    {
     "name": "stdin",
     "output_type": "stream",
     "text": [
      "Attempt 2/5 - Guess Karo:  15\n"
     ]
    },
    {
     "name": "stdout",
     "output_type": "stream",
     "text": [
      "Galat! Guess Higher.\n"
     ]
    },
    {
     "name": "stdin",
     "output_type": "stream",
     "text": [
      "Attempt 3/5 - Guess Karo:  65\n"
     ]
    },
    {
     "name": "stdout",
     "output_type": "stream",
     "text": [
      "Galat! Guess Lower.\n"
     ]
    },
    {
     "name": "stdin",
     "output_type": "stream",
     "text": [
      "Attempt 4/5 - Guess Karo:  35\n"
     ]
    },
    {
     "name": "stdout",
     "output_type": "stream",
     "text": [
      "Galat! Guess Higher.\n"
     ]
    },
    {
     "name": "stdin",
     "output_type": "stream",
     "text": [
      "Attempt 5/5 - Guess Karo:  40\n"
     ]
    },
    {
     "name": "stdout",
     "output_type": "stream",
     "text": [
      "Galat! Guess Higher.\n",
      "Sorry! You ran out of attempts. The correct number was 64.\n"
     ]
    }
   ],
   "source": [
    "#Gussing game\n",
    "# generate a random integer between 1 and 100\n",
    "\n",
    "# import random\n",
    "# jackport = random.randint(1,100)\n",
    "\n",
    "# guess = int(input('Gusses Karo'))\n",
    "# cont  = 1;\n",
    "\n",
    "# while guess != jackport:\n",
    "#     if guess < jackport:\n",
    "#         print('Galat! Guess Higher')\n",
    "#     else:\n",
    "#         print('Glat! Guess Lower')\n",
    "#     guess = int(input('Gusses Karo'))\n",
    "#     cont += 1;\n",
    "\n",
    "# else:\n",
    "#     print('correct Guess')\n",
    "#     print('attempts',counter)\n",
    "\n",
    "import random\n",
    "\n",
    "jackpot = random.randint(1, 20)\n",
    "attempts = 5\n",
    "\n",
    "for attempt in range(1, attempts + 1):\n",
    "    guess = int(input(f'Attempt {attempt}/{attempts} - Guess Karo: '))\n",
    "    \n",
    "    if guess == jackpot:\n",
    "        print('Correct Guess! 🎉')\n",
    "        print(f'You guessed it in {attempt} attempts.')\n",
    "        break\n",
    "    elif guess < jackpot:\n",
    "        print('Galat! Guess Higher.')\n",
    "    else:\n",
    "        print('Galat! Guess Lower.')\n",
    "    \n",
    "    if attempt == attempts:\n",
    "        print(f'Sorry! You ran out of attempts. The correct number was {jackpot}.')"
   ]
  },
  {
   "cell_type": "code",
   "execution_count": null,
   "id": "384e2211-e007-48f7-9f9d-407787b09d41",
   "metadata": {},
   "outputs": [],
   "source": [
    "import random\n",
    "\n",
    "jackpot = random.randint(1, 100)\n",
    "attempts = 5\n",
    "count = 0\n",
    "\n",
    "while count < attempts:\n",
    "    guess = int(input(f'Attempt {count + 1}/{attempts} - Guess Karo: '))\n",
    "    count += 1\n",
    "    \n",
    "    if guess == jackpot:\n",
    "        print('Correct Guess! 🎉')\n",
    "        print(f'You guessed it in {count} attempts.')\n",
    "        break\n",
    "    elif guess < jackpot:\n",
    "        print('Galat! Guess Higher.')\n",
    "    else:\n",
    "        print('Galat! Guess Lower.')\n",
    "    \n",
    "    if count == attempts:\n",
    "        print(f'Sorry! You ran out of attempts. The correct number was {jackpot}.')\n"
   ]
  },
  {
   "cell_type": "markdown",
   "id": "aabe7c87-48e3-4289-8188-024be37b3d50",
   "metadata": {},
   "source": [
    "# For Loop"
   ]
  },
  {
   "cell_type": "code",
   "execution_count": 5,
   "id": "7ed404bf-ff15-4d98-b4f2-88869430c8ae",
   "metadata": {},
   "outputs": [
    {
     "name": "stdout",
     "output_type": "stream",
     "text": [
      "1\n",
      "2\n",
      "3\n",
      "4\n",
      "5\n",
      "6\n",
      "7\n",
      "8\n",
      "9\n",
      "10\n"
     ]
    }
   ],
   "source": [
    "for i in range(1,11):\n",
    "    print(i)"
   ]
  },
  {
   "cell_type": "code",
   "execution_count": 7,
   "id": "21e9d19e-0a14-4844-b8f1-126441355948",
   "metadata": {},
   "outputs": [
    {
     "name": "stdout",
     "output_type": "stream",
     "text": [
      "10\n",
      "9\n",
      "8\n",
      "7\n",
      "6\n",
      "5\n",
      "4\n",
      "3\n",
      "2\n",
      "1\n"
     ]
    }
   ],
   "source": [
    "for i in range(10,0,-1):\n",
    "    print(i)"
   ]
  },
  {
   "cell_type": "markdown",
   "id": "58510198-b215-4509-8aa7-1be8d1257d23",
   "metadata": {},
   "source": [
    "### Problem - the current population of a town is 10000. The population of the town is Increasing at the rate of 10% per year. You have to write a program to find out the population at the end of each of the last 10 years\n"
   ]
  },
  {
   "cell_type": "code",
   "execution_count": 1,
   "id": "f73da06a-880a-4626-9150-863c897786df",
   "metadata": {},
   "outputs": [
    {
     "name": "stdout",
     "output_type": "stream",
     "text": [
      "10 10000\n",
      "9 9090.90909090909\n",
      "8 8264.462809917353\n",
      "7 7513.148009015775\n",
      "6 6830.134553650703\n",
      "5 6209.213230591548\n",
      "4 5644.739300537771\n",
      "3 5131.5811823070635\n",
      "2 4665.07380209733\n",
      "1 4240.976183724845\n"
     ]
    }
   ],
   "source": [
    "curr_pop = 10000\n",
    "\n",
    "for i in range(10,0,-1):\n",
    "    print(i,curr_pop)\n",
    "    curr_pop = curr_pop/1.1"
   ]
  },
  {
   "cell_type": "markdown",
   "id": "ce08df92-56e6-46c1-abe7-4f24e14f2b7a",
   "metadata": {},
   "source": [
    "### Sequence sum\n",
    "### 1/1! + 2/2! + 3/3! + ...."
   ]
  },
  {
   "cell_type": "code",
   "execution_count": 5,
   "id": "c3c8ee50-30bc-4b0c-bd2c-459b1fe73a04",
   "metadata": {},
   "outputs": [
    {
     "name": "stdin",
     "output_type": "stream",
     "text": [
      "Enter n 3\n"
     ]
    },
    {
     "name": "stdout",
     "output_type": "stream",
     "text": [
      "2.5\n"
     ]
    }
   ],
   "source": [
    "n = int(input('Enter n'))\n",
    "\n",
    "result = 0\n",
    "fact = 1;\n",
    "\n",
    "for i in range(1, n+1):\n",
    "    fact = fact * i;\n",
    "    result += i/fact;\n",
    "\n",
    "print(result)"
   ]
  },
  {
   "cell_type": "markdown",
   "id": "3691fb95-957d-4c11-adc6-a59304629151",
   "metadata": {},
   "source": [
    "# Nested Loops"
   ]
  },
  {
   "cell_type": "code",
   "execution_count": 6,
   "id": "2d350d1a-b760-40c7-9c71-8bee1e0fbf60",
   "metadata": {},
   "outputs": [
    {
     "name": "stdout",
     "output_type": "stream",
     "text": [
      "1 1\n",
      "1 2\n",
      "1 3\n",
      "1 4\n",
      "2 1\n",
      "2 2\n",
      "2 3\n",
      "2 4\n",
      "3 1\n",
      "3 2\n",
      "3 3\n",
      "3 4\n",
      "4 1\n",
      "4 2\n",
      "4 3\n",
      "4 4\n"
     ]
    }
   ],
   "source": [
    "# Examples  -> unique pair\n",
    "for i in range(1,5):\n",
    "    for j in range(1,5):\n",
    "        print(i,j)"
   ]
  },
  {
   "cell_type": "code",
   "execution_count": 11,
   "id": "90dbab2e-7fba-483c-a970-6a0dc1cb16bb",
   "metadata": {},
   "outputs": [
    {
     "name": "stdin",
     "output_type": "stream",
     "text": [
      "enter of rows 5\n"
     ]
    },
    {
     "name": "stdout",
     "output_type": "stream",
     "text": [
      "*\n",
      "**\n",
      "***\n",
      "****\n",
      "*****\n"
     ]
    }
   ],
   "source": [
    "rows = int(input('enter of rows'))\n",
    "\n",
    "for i in range(1, rows+1):\n",
    "    for j in range(1,i+1):\n",
    "        print('*', end='')\n",
    "    print()"
   ]
  },
  {
   "cell_type": "code",
   "execution_count": 14,
   "id": "29803f1d-b536-4931-b3e7-6fdedc95b900",
   "metadata": {},
   "outputs": [
    {
     "name": "stdin",
     "output_type": "stream",
     "text": [
      "enter of rows 5\n"
     ]
    },
    {
     "name": "stdout",
     "output_type": "stream",
     "text": [
      "1\n",
      "121\n",
      "12321\n",
      "1234321\n",
      "123454321\n"
     ]
    }
   ],
   "source": [
    "rows = int(input('enter of rows'))\n",
    "\n",
    "for i in range(1, rows+1):\n",
    "    for j in range(1,i+1):\n",
    "        print(j, end='')\n",
    "    for k in range(i-1,0,-1):\n",
    "        print(k, end='')\n",
    "    print()"
   ]
  },
  {
   "cell_type": "markdown",
   "id": "c2379043-4c15-4961-a2db-4077b39f8d84",
   "metadata": {},
   "source": [
    "# Loop Control Statement\n",
    "- Break\n",
    "- Continue\n",
    "- Pass"
   ]
  },
  {
   "cell_type": "markdown",
   "id": "8d606c88-1441-478a-9b63-a268d096ac59",
   "metadata": {},
   "source": [
    "## Break"
   ]
  },
  {
   "cell_type": "code",
   "execution_count": 16,
   "id": "becf1b27-ae41-4a5c-beb3-b66ccc255975",
   "metadata": {},
   "outputs": [
    {
     "name": "stdout",
     "output_type": "stream",
     "text": [
      "1\n",
      "2\n",
      "3\n",
      "4\n"
     ]
    }
   ],
   "source": [
    "# Break\n",
    "for i in range(1,10):\n",
    "    if i == 5\n",
    "    print(i)"
   ]
  },
  {
   "cell_type": "code",
   "execution_count": 18,
   "id": "c6a3bbe1-98dc-4ed9-a694-ba11da992622",
   "metadata": {},
   "outputs": [
    {
     "name": "stdin",
     "output_type": "stream",
     "text": [
      "enter lower range  10\n",
      "enter upper range  30\n"
     ]
    },
    {
     "name": "stdout",
     "output_type": "stream",
     "text": [
      "11\n",
      "13\n",
      "17\n",
      "19\n",
      "23\n",
      "29\n"
     ]
    }
   ],
   "source": [
    "# find prime number\n",
    "lower = int(input('enter lower range '))\n",
    "upper = int(input('enter upper range '))\n",
    "\n",
    "for i in range(lower, upper+1):\n",
    "    for j in range(2,i):\n",
    "        if i % j ==0:\n",
    "            break\n",
    "    else:\n",
    "        print(i)\n",
    "        "
   ]
  },
  {
   "cell_type": "markdown",
   "id": "b956ac58-0ee1-4c19-9ab0-51bfcf773f18",
   "metadata": {},
   "source": [
    "## Continue"
   ]
  },
  {
   "cell_type": "code",
   "execution_count": 19,
   "id": "fd2bdf13-dbde-4058-830a-82539f7fb951",
   "metadata": {},
   "outputs": [
    {
     "name": "stdout",
     "output_type": "stream",
     "text": [
      "1\n",
      "2\n",
      "3\n",
      "4\n",
      "6\n",
      "7\n",
      "8\n",
      "9\n"
     ]
    }
   ],
   "source": [
    "for i in range(1,10):\n",
    "    if i == 5:\n",
    "        continue\n",
    "    print(i)"
   ]
  },
  {
   "cell_type": "markdown",
   "id": "00744770-4322-4854-84ce-6a53dcf9df68",
   "metadata": {},
   "source": [
    "## Pass"
   ]
  },
  {
   "cell_type": "code",
   "execution_count": 20,
   "id": "bf867f94-a0e8-4514-afd3-1802599eee43",
   "metadata": {},
   "outputs": [],
   "source": [
    "for i in range(1,10):\n",
    "    pass"
   ]
  },
  {
   "cell_type": "code",
   "execution_count": null,
   "id": "3a5ca132-ff20-46df-a831-511051cbb79e",
   "metadata": {},
   "outputs": [],
   "source": []
  }
 ],
 "metadata": {
  "kernelspec": {
   "display_name": "Python 3 (ipykernel)",
   "language": "python",
   "name": "python3"
  },
  "language_info": {
   "codemirror_mode": {
    "name": "ipython",
    "version": 3
   },
   "file_extension": ".py",
   "mimetype": "text/x-python",
   "name": "python",
   "nbconvert_exporter": "python",
   "pygments_lexer": "ipython3",
   "version": "3.12.7"
  }
 },
 "nbformat": 4,
 "nbformat_minor": 5
}
