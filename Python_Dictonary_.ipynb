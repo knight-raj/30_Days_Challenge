{
 "cells": [
  {
   "cell_type": "markdown",
   "id": "32a7da5a-ea48-40b6-98a9-97461f3de15c",
   "metadata": {},
   "source": [
    "## Dictionary\n",
    "### Dictionary in Python is a collection of keys values, used to store data values like a map, which, unlike other data types which hold only a single value as an element.\n",
    "\n",
    "### In some languages it is known as map or assosiative arrays.\n",
    "\n",
    "### dict = { 'name' : 'nitish' , 'age' : 33 , 'gender' : 'male' }\n",
    "\n",
    "### Characterstics:\n",
    "\n",
    "- Mutable\n",
    "- Indexing has no meaning\n",
    "- keys can't be duplicated\n",
    "- keys can't be mutable items"
   ]
  },
  {
   "cell_type": "markdown",
   "id": "88dee0cd-3d47-4664-b337-a1595ea64fc3",
   "metadata": {},
   "source": [
    "### Creating Dictonary"
   ]
  },
  {
   "cell_type": "code",
   "execution_count": 1,
   "id": "47f6ab0d-51a2-4d84-8417-0548f5412e63",
   "metadata": {},
   "outputs": [
    {
     "name": "stdout",
     "output_type": "stream",
     "text": [
      "{'name': 'nitish', (1, 2, 3): 2}\n"
     ]
    }
   ],
   "source": [
    "# empty dictionary\n",
    "d = {}\n",
    "d\n",
    "\n",
    "# 1D dictionary\n",
    "d1 = { 'name': 'nitish', 'gender': 'male' }\n",
    "d1\n",
    "\n",
    "# with mixed keys\n",
    "d2 = {(1,2,3):1,'hello':'world'}\n",
    "d2\n",
    "\n",
    "# 2D dictionary -> JSON\n",
    "s = {\n",
    "    'name':'nitish',\n",
    "     'college':'bit',\n",
    "     'sem':4,\n",
    "     'subjects':{\n",
    "         'dsa':50,\n",
    "         'maths':67,\n",
    "         'english':34\n",
    "     }\n",
    "}\n",
    "s\n",
    "\n",
    "# using sequence and dict function\n",
    "d4 = dict([('name','nitish'),('age',32),(3,3)])\n",
    "d4\n",
    "\n",
    "# duplicate keys\n",
    "d5 = {'name':'nitish','name':'rahul'}\n",
    "d5\n",
    "\n",
    "# mutable items as keys\n",
    "d6 = {'name':'nitish',(1,2,3):2}\n",
    "print(d6)"
   ]
  },
  {
   "cell_type": "markdown",
   "id": "60cbf5cc-eb19-4f8e-bfb9-61fba46a5144",
   "metadata": {},
   "source": [
    "### Accesssing Items"
   ]
  },
  {
   "cell_type": "code",
   "execution_count": 2,
   "id": "df420611-2199-4037-a277-b05f6170857a",
   "metadata": {},
   "outputs": [
    {
     "data": {
      "text/plain": [
       "67"
      ]
     },
     "execution_count": 2,
     "metadata": {},
     "output_type": "execute_result"
    }
   ],
   "source": [
    "my_dict = {'name': 'Jack', 'age': 26}\n",
    "\n",
    "# []\n",
    "my_dict['age']\n",
    "\n",
    "# get\n",
    "my_dict.get('age')\n",
    "\n",
    "s['subjects']['maths']"
   ]
  },
  {
   "cell_type": "markdown",
   "id": "1199dd76-f7c9-40c3-be3d-de70c076cf0f",
   "metadata": {},
   "source": [
    "### Adding key-value pair"
   ]
  },
  {
   "cell_type": "code",
   "execution_count": 3,
   "id": "3aad3fb3-5e07-45fa-85eb-9e27b8d483a7",
   "metadata": {},
   "outputs": [
    {
     "data": {
      "text/plain": [
       "{'name': 'nitish',\n",
       " 'college': 'bit',\n",
       " 'sem': 4,\n",
       " 'subjects': {'dsa': 50, 'maths': 67, 'english': 34, 'ds': 75}}"
      ]
     },
     "execution_count": 3,
     "metadata": {},
     "output_type": "execute_result"
    }
   ],
   "source": [
    "d4['gender'] = 'male'\n",
    "d4\n",
    "\n",
    "d4['weight'] = 72\n",
    "d4\n",
    "\n",
    "s['subjects']['ds'] = 75\n",
    "s"
   ]
  },
  {
   "cell_type": "markdown",
   "id": "d5cbee89-75ff-452f-938d-40895e227b39",
   "metadata": {},
   "source": [
    "### Remove key-value pair"
   ]
  },
  {
   "cell_type": "code",
   "execution_count": 4,
   "id": "9de4ccc4-f66f-4b2e-8ce1-88ad0f0343d0",
   "metadata": {},
   "outputs": [
    {
     "name": "stdout",
     "output_type": "stream",
     "text": [
      "{}\n"
     ]
    },
    {
     "data": {
      "text/plain": [
       "{'name': 'nitish',\n",
       " 'college': 'bit',\n",
       " 'sem': 4,\n",
       " 'subjects': {'dsa': 50, 'english': 34, 'ds': 75}}"
      ]
     },
     "execution_count": 4,
     "metadata": {},
     "output_type": "execute_result"
    }
   ],
   "source": [
    "d = {'name': 'nitish', 'age': 32, 3: 3, 'gender': 'male', 'weight': 72}\n",
    "\n",
    "# pop\n",
    "#d.pop(3)\n",
    "#print(d)\n",
    "\n",
    "# popitem\n",
    "#d.popitem()\n",
    "# d.popitem()\n",
    "# print(d)\n",
    "\n",
    "# del\n",
    "#del d['name']\n",
    "#print(d)\n",
    "\n",
    "# clear\n",
    "d.clear()\n",
    "print(d)\n",
    "\n",
    "del s['subjects']['maths']\n",
    "s"
   ]
  },
  {
   "cell_type": "markdown",
   "id": "749a4bf8-eeee-42a0-af32-5310ce659d87",
   "metadata": {},
   "source": [
    "### Editing key-value pair"
   ]
  },
  {
   "cell_type": "code",
   "execution_count": 5,
   "id": "ba798e40-6981-44f0-8b8e-c1e859783d9a",
   "metadata": {},
   "outputs": [
    {
     "data": {
      "text/plain": [
       "{'name': 'nitish',\n",
       " 'college': 'bit',\n",
       " 'sem': 4,\n",
       " 'subjects': {'dsa': 80, 'english': 34, 'ds': 75}}"
      ]
     },
     "execution_count": 5,
     "metadata": {},
     "output_type": "execute_result"
    }
   ],
   "source": [
    "s['subjects']['dsa'] = 80\n",
    "s"
   ]
  },
  {
   "cell_type": "markdown",
   "id": "d7018249-9810-4f7e-94c5-c2bd5b5bf5ee",
   "metadata": {},
   "source": [
    "### Dictonary Operations\n",
    "- Membership\n",
    "- Iteration"
   ]
  },
  {
   "cell_type": "code",
   "execution_count": 6,
   "id": "b9f8c75b-1aaa-4bca-8c53-582a622894c1",
   "metadata": {},
   "outputs": [
    {
     "name": "stdout",
     "output_type": "stream",
     "text": [
      "{'name': 'nitish', 'college': 'bit', 'sem': 4, 'subjects': {'dsa': 80, 'english': 34, 'ds': 75}}\n"
     ]
    },
    {
     "data": {
      "text/plain": [
       "True"
      ]
     },
     "execution_count": 6,
     "metadata": {},
     "output_type": "execute_result"
    }
   ],
   "source": [
    "print(s)\n",
    "\n",
    "'name' in s"
   ]
  },
  {
   "cell_type": "code",
   "execution_count": 7,
   "id": "b0e3ad8e-2088-4ba8-8a3c-c444cd8ae4db",
   "metadata": {},
   "outputs": [
    {
     "name": "stdout",
     "output_type": "stream",
     "text": [
      "name nitish\n",
      "gender male\n",
      "age 33\n"
     ]
    }
   ],
   "source": [
    "d = {'name':'nitish','gender':'male','age':33}\n",
    "\n",
    "for i in d:\n",
    "  print(i,d[i])"
   ]
  },
  {
   "cell_type": "markdown",
   "id": "0b184be9-658b-4f09-bdd3-f83ffe92639d",
   "metadata": {},
   "source": [
    "### Dictonary Functions"
   ]
  },
  {
   "cell_type": "code",
   "execution_count": 18,
   "id": "b20804b7-c978-47ae-baa5-599409a21928",
   "metadata": {},
   "outputs": [
    {
     "name": "stdout",
     "output_type": "stream",
     "text": [
      "{'name': 'nitish', 'gender': 'male', 'age': 33}\n"
     ]
    },
    {
     "data": {
      "text/plain": [
       "'age'"
      ]
     },
     "execution_count": 18,
     "metadata": {},
     "output_type": "execute_result"
    }
   ],
   "source": [
    "# len/sorted\n",
    "len(d)\n",
    "print(d)\n",
    "\n",
    "sorted(d,reverse=True)\n",
    "\n",
    "max(d)\n",
    "\n",
    "min(d)"
   ]
  },
  {
   "cell_type": "code",
   "execution_count": 9,
   "id": "b56ee93f-bde3-4b13-97b5-aea9b66fab65",
   "metadata": {},
   "outputs": [
    {
     "name": "stdout",
     "output_type": "stream",
     "text": [
      "{'name': 'nitish', 'gender': 'male', 'age': 33}\n",
      "dict_items([('name', 'nitish'), ('gender', 'male'), ('age', 33)])\n",
      "dict_keys(['name', 'gender', 'age'])\n",
      "dict_values(['nitish', 'male', 33])\n"
     ]
    }
   ],
   "source": [
    "# items/keys/values\n",
    "print(d)\n",
    "\n",
    "print(d.items())\n",
    "\n",
    "print(d.keys())\n",
    "\n",
    "print(d.values())"
   ]
  },
  {
   "cell_type": "code",
   "execution_count": 10,
   "id": "df374e4e-d0f3-4338-a8ce-02683335ef95",
   "metadata": {},
   "outputs": [
    {
     "name": "stdout",
     "output_type": "stream",
     "text": [
      "{1: 2, 3: 4, 4: 7, 6: 8}\n"
     ]
    }
   ],
   "source": [
    "# update\n",
    "d1 = {1:2,3:4,4:5}\n",
    "d2 = {4:7,6:8}\n",
    "\n",
    "d1.update(d2)\n",
    "print(d1)"
   ]
  },
  {
   "cell_type": "markdown",
   "id": "e3af4158-1996-4bda-898e-e07f5e59f52a",
   "metadata": {},
   "source": [
    "### Dictonary Comprehension\n",
    "\n",
    "### {key: value for vars in iterable}"
   ]
  },
  {
   "cell_type": "code",
   "execution_count": 11,
   "id": "d3468d0f-196d-43a1-9649-3aeb4ec2329c",
   "metadata": {},
   "outputs": [
    {
     "data": {
      "text/plain": [
       "{1: 1, 2: 4, 3: 9, 4: 16, 5: 25, 6: 36, 7: 49, 8: 64, 9: 81, 10: 100}"
      ]
     },
     "execution_count": 11,
     "metadata": {},
     "output_type": "execute_result"
    }
   ],
   "source": [
    "# print 1st 10 numbers and their squares\n",
    "{i:i**2 for i in range(1,11)}"
   ]
  },
  {
   "cell_type": "code",
   "execution_count": 12,
   "id": "59b6a681-949f-4b18-b754-b1ee9fe63638",
   "metadata": {},
   "outputs": [
    {
     "name": "stdout",
     "output_type": "stream",
     "text": [
      "dict_items([('delhi', 1000), ('mumbai', 2000), ('bangalore', 3000)])\n"
     ]
    }
   ],
   "source": [
    "distances = {'delhi':1000,'mumbai':2000,'bangalore':3000}\n",
    "print(distances.items())"
   ]
  },
  {
   "cell_type": "code",
   "execution_count": 13,
   "id": "262fd36e-efeb-4f7e-b540-e8ce35f274b3",
   "metadata": {},
   "outputs": [
    {
     "data": {
      "text/plain": [
       "{'delhi': 620.0, 'mumbai': 1240.0, 'bangalore': 1860.0}"
      ]
     },
     "execution_count": 13,
     "metadata": {},
     "output_type": "execute_result"
    }
   ],
   "source": [
    "# using existing dict\n",
    "distances = {'delhi':1000,'mumbai':2000,'bangalore':3000}\n",
    "{key:value*0.62 for (key,value) in distances.items()}"
   ]
  },
  {
   "cell_type": "code",
   "execution_count": 14,
   "id": "e7568145-b043-4d61-bbc6-db6e76fa0a87",
   "metadata": {},
   "outputs": [
    {
     "data": {
      "text/plain": [
       "{'Sunday': 30.5,\n",
       " 'Monday': 32.6,\n",
       " 'Tuesday': 31.8,\n",
       " 'Wednesday': 33.4,\n",
       " 'Thursday': 29.8,\n",
       " 'Friday': 30.2,\n",
       " 'Saturday': 29.9}"
      ]
     },
     "execution_count": 14,
     "metadata": {},
     "output_type": "execute_result"
    }
   ],
   "source": [
    "# using zip\n",
    "days = [\"Sunday\", \"Monday\",\"Tuesday\",\"Wednesday\",\"Thursday\",\"Friday\",\"Saturday\"]\n",
    "temp_C = [30.5,32.6,31.8,33.4,29.8,30.2,29.9]\n",
    "\n",
    "{i:j for (i,j) in zip(days,temp_C)}"
   ]
  },
  {
   "cell_type": "code",
   "execution_count": 15,
   "id": "a06079b1-7253-41ef-81ee-c39d6e591d2f",
   "metadata": {},
   "outputs": [
    {
     "data": {
      "text/plain": [
       "{'phone': 10, 'charger': 32}"
      ]
     },
     "execution_count": 15,
     "metadata": {},
     "output_type": "execute_result"
    }
   ],
   "source": [
    "# using if condition\n",
    "products = {'phone':10,'laptop':0,'charger':32,'tablet':0}\n",
    "\n",
    "{key:value for (key,value) in products.items() if value>0}"
   ]
  },
  {
   "cell_type": "code",
   "execution_count": 16,
   "id": "299e045e-4f22-4677-8158-9ff6b71fdb01",
   "metadata": {},
   "outputs": [
    {
     "data": {
      "text/plain": [
       "{2: {1: 2, 2: 4, 3: 6, 4: 8, 5: 10, 6: 12, 7: 14, 8: 16, 9: 18, 10: 20},\n",
       " 3: {1: 3, 2: 6, 3: 9, 4: 12, 5: 15, 6: 18, 7: 21, 8: 24, 9: 27, 10: 30},\n",
       " 4: {1: 4, 2: 8, 3: 12, 4: 16, 5: 20, 6: 24, 7: 28, 8: 32, 9: 36, 10: 40}}"
      ]
     },
     "execution_count": 16,
     "metadata": {},
     "output_type": "execute_result"
    }
   ],
   "source": [
    "# Nested Comprehension\n",
    "# print tables of number from 2 to 4\n",
    "{i:{j:i*j for j in range(1,11)} for i in range(2,5)}"
   ]
  },
  {
   "cell_type": "code",
   "execution_count": 17,
   "id": "eecd3df3-4960-474a-af28-14c7b81524b8",
   "metadata": {},
   "outputs": [
    {
     "data": {
      "text/plain": [
       "{2: {1: 2, 2: 4, 3: 6, 4: 8},\n",
       " 3: {1: 3, 2: 6, 3: 9, 4: 12},\n",
       " 4: {1: 4, 2: 8, 3: 12, 4: 16}}"
      ]
     },
     "execution_count": 17,
     "metadata": {},
     "output_type": "execute_result"
    }
   ],
   "source": [
    "{\n",
    "    2:{1:2,2:4,3:6,4:8},\n",
    "    3:{1:3,2:6,3:9,4:12},\n",
    "    4:{1:4,2:8,3:12,4:16}\n",
    "}"
   ]
  },
  {
   "cell_type": "code",
   "execution_count": null,
   "id": "f1526895-3c4b-414f-8061-82c1081df506",
   "metadata": {},
   "outputs": [],
   "source": []
  }
 ],
 "metadata": {
  "kernelspec": {
   "display_name": "Python 3 (ipykernel)",
   "language": "python",
   "name": "python3"
  },
  "language_info": {
   "codemirror_mode": {
    "name": "ipython",
    "version": 3
   },
   "file_extension": ".py",
   "mimetype": "text/x-python",
   "name": "python",
   "nbconvert_exporter": "python",
   "pygments_lexer": "ipython3",
   "version": "3.12.7"
  }
 },
 "nbformat": 4,
 "nbformat_minor": 5
}
