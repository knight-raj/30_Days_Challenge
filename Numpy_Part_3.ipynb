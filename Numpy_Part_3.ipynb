{
 "cells": [
  {
   "cell_type": "markdown",
   "id": "b7c4868a-80fd-4977-a273-bd17fa096af6",
   "metadata": {},
   "source": [
    "### np.sort\n",
    "\n",
    "Return a sorted copy of an array.\n",
    "\n",
    "https://numpy.org/doc/stable/reference/generated/numpy.sort.html"
   ]
  },
  {
   "cell_type": "code",
   "execution_count": 1,
   "id": "6eef924e-cb17-4641-b25a-bd3ce727450b",
   "metadata": {},
   "outputs": [
    {
     "data": {
      "text/plain": [
       "array([52, 67, 16, 92, 51, 31, 69, 61, 29, 90, 96, 83, 41, 10,  9],\n",
       "      dtype=int32)"
      ]
     },
     "execution_count": 1,
     "metadata": {},
     "output_type": "execute_result"
    }
   ],
   "source": [
    "# code\n",
    "import numpy as np\n",
    "a = np.random.randint(1,100,15)\n",
    "a"
   ]
  },
  {
   "cell_type": "code",
   "execution_count": 2,
   "id": "c6b0ad0d-290f-4d7d-becb-41525c3bcc19",
   "metadata": {},
   "outputs": [
    {
     "data": {
      "text/plain": [
       "array([[93, 74,  8, 39],\n",
       "       [18,  7, 52, 61],\n",
       "       [31, 20, 84, 54],\n",
       "       [39, 91, 59, 25],\n",
       "       [65, 95, 80, 23],\n",
       "       [ 2, 65, 81, 11]], dtype=int32)"
      ]
     },
     "execution_count": 2,
     "metadata": {},
     "output_type": "execute_result"
    }
   ],
   "source": [
    "b = np.random.randint(1,100,24).reshape(6,4)\n",
    "b"
   ]
  },
  {
   "cell_type": "code",
   "execution_count": 4,
   "id": "00e82fce-703f-4859-9f90-565541d32113",
   "metadata": {},
   "outputs": [
    {
     "data": {
      "text/plain": [
       "array([ 9, 10, 16, 29, 31, 41, 51, 52, 61, 67, 69, 83, 90, 92, 96],\n",
       "      dtype=int32)"
      ]
     },
     "execution_count": 4,
     "metadata": {},
     "output_type": "execute_result"
    }
   ],
   "source": [
    "# assending\n",
    "np.sort(a)"
   ]
  },
  {
   "cell_type": "code",
   "execution_count": 5,
   "id": "4b77484c-7a90-4b8c-b61e-e5c2ebebbf2e",
   "metadata": {},
   "outputs": [
    {
     "data": {
      "text/plain": [
       "array([96, 92, 90, 83, 69, 67, 61, 52, 51, 41, 31, 29, 16, 10,  9],\n",
       "      dtype=int32)"
      ]
     },
     "execution_count": 5,
     "metadata": {},
     "output_type": "execute_result"
    }
   ],
   "source": [
    "#decending\n",
    "np.sort(a)[::-1]"
   ]
  },
  {
   "cell_type": "code",
   "execution_count": 6,
   "id": "06f8a7e5-0de9-43ff-931e-a783f28b7611",
   "metadata": {},
   "outputs": [
    {
     "data": {
      "text/plain": [
       "array([[ 8, 39, 74, 93],\n",
       "       [ 7, 18, 52, 61],\n",
       "       [20, 31, 54, 84],\n",
       "       [25, 39, 59, 91],\n",
       "       [23, 65, 80, 95],\n",
       "       [ 2, 11, 65, 81]], dtype=int32)"
      ]
     },
     "execution_count": 6,
     "metadata": {},
     "output_type": "execute_result"
    }
   ],
   "source": [
    "# row wise sorting\n",
    "np.sort(b)"
   ]
  },
  {
   "cell_type": "code",
   "execution_count": 7,
   "id": "8d2e9d0c-66a0-4885-b238-d9e7ccd6b631",
   "metadata": {},
   "outputs": [
    {
     "data": {
      "text/plain": [
       "array([[ 2,  7,  8, 11],\n",
       "       [18, 20, 52, 23],\n",
       "       [31, 65, 59, 25],\n",
       "       [39, 74, 80, 39],\n",
       "       [65, 91, 81, 54],\n",
       "       [93, 95, 84, 61]], dtype=int32)"
      ]
     },
     "execution_count": 7,
     "metadata": {},
     "output_type": "execute_result"
    }
   ],
   "source": [
    "# colun wise sorting\n",
    "np.sort(b, axis=0)"
   ]
  },
  {
   "cell_type": "markdown",
   "id": "f074b4bc-c9cb-4042-94f9-34ac9d66d5b2",
   "metadata": {},
   "source": [
    "### np.append\n",
    "\n",
    "The numpy.append() appends values along the mentioned axis at the end of the array\n",
    "\n",
    "https://numpy.org/doc/stable/reference/generated/numpy.append.html"
   ]
  },
  {
   "cell_type": "code",
   "execution_count": 8,
   "id": "971c46e7-ccf3-42a4-a759-92c16ee3746d",
   "metadata": {},
   "outputs": [
    {
     "data": {
      "text/plain": [
       "array([52, 67, 16, 92, 51, 31, 69, 61, 29, 90, 96, 83, 41, 10,  9],\n",
       "      dtype=int32)"
      ]
     },
     "execution_count": 8,
     "metadata": {},
     "output_type": "execute_result"
    }
   ],
   "source": [
    "a"
   ]
  },
  {
   "cell_type": "code",
   "execution_count": 9,
   "id": "555ac972-af2a-45dd-8396-3df2d18c4996",
   "metadata": {},
   "outputs": [
    {
     "data": {
      "text/plain": [
       "array([ 52,  67,  16,  92,  51,  31,  69,  61,  29,  90,  96,  83,  41,\n",
       "        10,   9, 200])"
      ]
     },
     "execution_count": 9,
     "metadata": {},
     "output_type": "execute_result"
    }
   ],
   "source": [
    "np.append(a,200)"
   ]
  },
  {
   "cell_type": "code",
   "execution_count": 10,
   "id": "2e606ed8-d23a-4032-808d-35e829da972a",
   "metadata": {},
   "outputs": [
    {
     "data": {
      "text/plain": [
       "array([[93, 74,  8, 39],\n",
       "       [18,  7, 52, 61],\n",
       "       [31, 20, 84, 54],\n",
       "       [39, 91, 59, 25],\n",
       "       [65, 95, 80, 23],\n",
       "       [ 2, 65, 81, 11]], dtype=int32)"
      ]
     },
     "execution_count": 10,
     "metadata": {},
     "output_type": "execute_result"
    }
   ],
   "source": [
    "b"
   ]
  },
  {
   "cell_type": "code",
   "execution_count": 12,
   "id": "244a9733-b3b0-4e7f-975c-02a622837a0f",
   "metadata": {},
   "outputs": [
    {
     "data": {
      "text/plain": [
       "array([[93., 74.,  8., 39.,  1.],\n",
       "       [18.,  7., 52., 61.,  1.],\n",
       "       [31., 20., 84., 54.,  1.],\n",
       "       [39., 91., 59., 25.,  1.],\n",
       "       [65., 95., 80., 23.,  1.],\n",
       "       [ 2., 65., 81., 11.,  1.]])"
      ]
     },
     "execution_count": 12,
     "metadata": {},
     "output_type": "execute_result"
    }
   ],
   "source": [
    "np.append(b, np.ones((b.shape[0],1)), axis=1)"
   ]
  },
  {
   "cell_type": "markdown",
   "id": "01dc4de9-113a-402a-9f7b-95ad36ae6074",
   "metadata": {},
   "source": [
    "### np.concatenate\n",
    "\n",
    "numpy.concatenate() function concatenate a sequence of arrays along an existing axis.\n",
    "\n",
    "https://numpy.org/doc/stable/reference/generated/numpy.concatenate.html"
   ]
  },
  {
   "cell_type": "code",
   "execution_count": 13,
   "id": "a3ff87ed-fd79-4739-8961-0628e1e55123",
   "metadata": {},
   "outputs": [
    {
     "name": "stdout",
     "output_type": "stream",
     "text": [
      "[[0 1 2]\n",
      " [3 4 5]]\n",
      "[[ 6  7  8]\n",
      " [ 9 10 11]]\n"
     ]
    }
   ],
   "source": [
    "# code\n",
    "c = np.arange(6).reshape(2,3)\n",
    "d = np.arange(6,12).reshape(2,3)\n",
    "\n",
    "print(c)\n",
    "print(d)"
   ]
  },
  {
   "cell_type": "code",
   "execution_count": 14,
   "id": "a095015e-e32f-4fcd-a7d4-95e3bd7f6759",
   "metadata": {},
   "outputs": [
    {
     "data": {
      "text/plain": [
       "array([[ 0,  1,  2],\n",
       "       [ 3,  4,  5],\n",
       "       [ 6,  7,  8],\n",
       "       [ 9, 10, 11]])"
      ]
     },
     "execution_count": 14,
     "metadata": {},
     "output_type": "execute_result"
    }
   ],
   "source": [
    "np.concatenate((c,d),axis=0)"
   ]
  },
  {
   "cell_type": "code",
   "execution_count": 15,
   "id": "38cd5a66-dadd-4c4a-a2fb-a3d11c837024",
   "metadata": {},
   "outputs": [
    {
     "data": {
      "text/plain": [
       "array([[ 0,  1,  2,  6,  7,  8],\n",
       "       [ 3,  4,  5,  9, 10, 11]])"
      ]
     },
     "execution_count": 15,
     "metadata": {},
     "output_type": "execute_result"
    }
   ],
   "source": [
    "np.concatenate((c,d),axis=1)"
   ]
  },
  {
   "cell_type": "markdown",
   "id": "f76963fe-95db-4da1-9319-88d1a35021b3",
   "metadata": {},
   "source": [
    "### np.unique\n",
    "\n",
    "With the help of np.unique() method, we can get the unique values from an array given as parameter in np.unique() method.\n",
    "\n",
    "https://numpy.org/doc/stable/reference/generated/numpy.unique.html/"
   ]
  },
  {
   "cell_type": "code",
   "execution_count": 16,
   "id": "00eaaf22-c031-4b50-8e5d-5f7ee912dfcc",
   "metadata": {},
   "outputs": [],
   "source": [
    "# code\n",
    "e = np.array([1,1,2,2,3,3,4,4,5,5,6,6])"
   ]
  },
  {
   "cell_type": "code",
   "execution_count": 17,
   "id": "661d5306-7fa7-419f-b051-420d4456bf3e",
   "metadata": {},
   "outputs": [
    {
     "data": {
      "text/plain": [
       "array([1, 2, 3, 4, 5, 6])"
      ]
     },
     "execution_count": 17,
     "metadata": {},
     "output_type": "execute_result"
    }
   ],
   "source": [
    "np.unique(e)"
   ]
  },
  {
   "cell_type": "markdown",
   "id": "b7503c1a-7e5f-4428-a30f-7ccd2c0cffa6",
   "metadata": {},
   "source": [
    "### np.expand_dims\n",
    "\n",
    "With the help of Numpy.expand_dims() method, we can get the expanded dimensions of an array\n",
    "\n",
    "https://numpy.org/doc/stable/reference/generated/numpy.expand_dims.html"
   ]
  },
  {
   "cell_type": "code",
   "execution_count": 18,
   "id": "9ae5d521-3d97-4c28-bd55-0fe0a5b6918f",
   "metadata": {},
   "outputs": [
    {
     "data": {
      "text/plain": [
       "(15,)"
      ]
     },
     "execution_count": 18,
     "metadata": {},
     "output_type": "execute_result"
    }
   ],
   "source": [
    "# code\n",
    "a.shape"
   ]
  },
  {
   "cell_type": "code",
   "execution_count": 19,
   "id": "2f35e59c-95af-464a-8cf1-fb80c4bf41e0",
   "metadata": {},
   "outputs": [
    {
     "data": {
      "text/plain": [
       "(1, 15)"
      ]
     },
     "execution_count": 19,
     "metadata": {},
     "output_type": "execute_result"
    }
   ],
   "source": [
    "np.expand_dims(a,axis=0).shape"
   ]
  },
  {
   "cell_type": "code",
   "execution_count": 20,
   "id": "eae7ccda-092c-4016-b53d-7fd42ce22467",
   "metadata": {},
   "outputs": [
    {
     "data": {
      "text/plain": [
       "array([[52],\n",
       "       [67],\n",
       "       [16],\n",
       "       [92],\n",
       "       [51],\n",
       "       [31],\n",
       "       [69],\n",
       "       [61],\n",
       "       [29],\n",
       "       [90],\n",
       "       [96],\n",
       "       [83],\n",
       "       [41],\n",
       "       [10],\n",
       "       [ 9]], dtype=int32)"
      ]
     },
     "execution_count": 20,
     "metadata": {},
     "output_type": "execute_result"
    }
   ],
   "source": [
    "np.expand_dims(a,axis=1)"
   ]
  },
  {
   "cell_type": "markdown",
   "id": "984d967c-0d62-4ac5-9ba4-12fabc84d38a",
   "metadata": {},
   "source": [
    "### np.where\n",
    "\n",
    "The numpy.where() function returns the indices of elements in an input array where the given condition is satisfied.\n",
    "\n",
    "https://numpy.org/doc/stable/reference/generated/numpy.where.html"
   ]
  },
  {
   "cell_type": "code",
   "execution_count": 21,
   "id": "2284e8ff-fcb2-45b7-bace-489ef48b0bf2",
   "metadata": {},
   "outputs": [
    {
     "data": {
      "text/plain": [
       "array([52, 67, 16, 92, 51, 31, 69, 61, 29, 90, 96, 83, 41, 10,  9],\n",
       "      dtype=int32)"
      ]
     },
     "execution_count": 21,
     "metadata": {},
     "output_type": "execute_result"
    }
   ],
   "source": [
    "a"
   ]
  },
  {
   "cell_type": "code",
   "execution_count": 22,
   "id": "068ca1f6-254b-4315-a703-285b28a49ae1",
   "metadata": {},
   "outputs": [
    {
     "data": {
      "text/plain": [
       "(array([ 0,  1,  3,  4,  6,  7,  9, 10, 11]),)"
      ]
     },
     "execution_count": 22,
     "metadata": {},
     "output_type": "execute_result"
    }
   ],
   "source": [
    "# find all indices with value greater than 50\n",
    "np.where(a>50)"
   ]
  },
  {
   "cell_type": "code",
   "execution_count": 23,
   "id": "11f074d1-08c8-41a2-8e95-b6170fb37f90",
   "metadata": {},
   "outputs": [
    {
     "data": {
      "text/plain": [
       "array([ 0,  0, 16,  0,  0, 31,  0,  0, 29,  0,  0,  0, 41, 10,  9],\n",
       "      dtype=int32)"
      ]
     },
     "execution_count": 23,
     "metadata": {},
     "output_type": "execute_result"
    }
   ],
   "source": [
    "# replace all values > 50 with 0\n",
    "np.where(a>50,0,a)"
   ]
  },
  {
   "cell_type": "code",
   "execution_count": 24,
   "id": "68a01b62-94c1-44b1-97dc-ad031fc971ee",
   "metadata": {},
   "outputs": [
    {
     "data": {
      "text/plain": [
       "array([ 0, 67,  0,  0, 51, 31, 69, 61, 29,  0,  0, 83, 41,  0,  9],\n",
       "      dtype=int32)"
      ]
     },
     "execution_count": 24,
     "metadata": {},
     "output_type": "execute_result"
    }
   ],
   "source": [
    "np.where(a%2 == 0,0,a)"
   ]
  },
  {
   "cell_type": "markdown",
   "id": "ae180592-7fa5-4477-9ae5-8801b7038e21",
   "metadata": {},
   "source": [
    "### np.argmax\n",
    "\n",
    "The numpy.argmax() function returns indices of the max element of the array in a particular axis.\n",
    "\n",
    "https://numpy.org/doc/stable/reference/generated/numpy.argmax.html"
   ]
  },
  {
   "cell_type": "code",
   "execution_count": 25,
   "id": "941cf620-da10-4c8b-bd97-99f7a5c1b4f6",
   "metadata": {},
   "outputs": [
    {
     "data": {
      "text/plain": [
       "array([52, 67, 16, 92, 51, 31, 69, 61, 29, 90, 96, 83, 41, 10,  9],\n",
       "      dtype=int32)"
      ]
     },
     "execution_count": 25,
     "metadata": {},
     "output_type": "execute_result"
    }
   ],
   "source": [
    "a"
   ]
  },
  {
   "cell_type": "code",
   "execution_count": 26,
   "id": "26c9156b-425d-43ac-b4db-42b5325fc56f",
   "metadata": {},
   "outputs": [
    {
     "data": {
      "text/plain": [
       "np.int64(10)"
      ]
     },
     "execution_count": 26,
     "metadata": {},
     "output_type": "execute_result"
    }
   ],
   "source": [
    "np.argmax(a)"
   ]
  },
  {
   "cell_type": "markdown",
   "id": "c7c7d182-d04a-4adf-8518-2d9ddb21a816",
   "metadata": {},
   "source": [
    "b"
   ]
  },
  {
   "cell_type": "code",
   "execution_count": 28,
   "id": "d1646a11-f0b3-46dc-8b3e-91f4e01942a2",
   "metadata": {},
   "outputs": [
    {
     "data": {
      "text/plain": [
       "array([0, 4, 2, 1])"
      ]
     },
     "execution_count": 28,
     "metadata": {},
     "output_type": "execute_result"
    }
   ],
   "source": [
    "np.argmax(b,axis=0)"
   ]
  },
  {
   "cell_type": "code",
   "execution_count": 29,
   "id": "16711387-e530-4a2e-a3ed-527cbbe632e6",
   "metadata": {},
   "outputs": [
    {
     "data": {
      "text/plain": [
       "array([0, 3, 2, 1, 1, 2])"
      ]
     },
     "execution_count": 29,
     "metadata": {},
     "output_type": "execute_result"
    }
   ],
   "source": [
    "np.argmax(b,axis=1)"
   ]
  },
  {
   "cell_type": "code",
   "execution_count": 30,
   "id": "42b72b10-eac3-4e05-a587-3bead27806e8",
   "metadata": {},
   "outputs": [
    {
     "data": {
      "text/plain": [
       "np.int64(14)"
      ]
     },
     "execution_count": 30,
     "metadata": {},
     "output_type": "execute_result"
    }
   ],
   "source": [
    "# np.argmin\n",
    "np.argmin(a)"
   ]
  },
  {
   "cell_type": "markdown",
   "id": "aaa9db6a-5379-4235-bf61-96df2144cab9",
   "metadata": {},
   "source": [
    "### np.cumsum\n",
    "\n",
    "numpy.cumsum() function is used when we want to compute the cumulative sum of array elements over a given axis.\n",
    "\n",
    "https://numpy.org/doc/stable/reference/generated/numpy.cumsum.html"
   ]
  },
  {
   "cell_type": "code",
   "execution_count": 32,
   "id": "05ca84e6-1c54-4012-99fc-8c8fe46e7dab",
   "metadata": {},
   "outputs": [
    {
     "data": {
      "text/plain": [
       "array([52, 67, 16, 92, 51, 31, 69, 61, 29, 90, 96, 83, 41, 10,  9],\n",
       "      dtype=int32)"
      ]
     },
     "execution_count": 32,
     "metadata": {},
     "output_type": "execute_result"
    }
   ],
   "source": [
    " a"
   ]
  },
  {
   "cell_type": "code",
   "execution_count": 33,
   "id": "9a1ee369-94b4-46d6-b1cd-f4bb6f5352c1",
   "metadata": {},
   "outputs": [
    {
     "data": {
      "text/plain": [
       "array([ 52, 119, 135, 227, 278, 309, 378, 439, 468, 558, 654, 737, 778,\n",
       "       788, 797])"
      ]
     },
     "execution_count": 33,
     "metadata": {},
     "output_type": "execute_result"
    }
   ],
   "source": [
    "np.cumsum(a)"
   ]
  },
  {
   "cell_type": "code",
   "execution_count": 34,
   "id": "37e38255-0475-4b1d-8faf-6c77d927e64b",
   "metadata": {},
   "outputs": [
    {
     "data": {
      "text/plain": [
       "array([[93, 74,  8, 39],\n",
       "       [18,  7, 52, 61],\n",
       "       [31, 20, 84, 54],\n",
       "       [39, 91, 59, 25],\n",
       "       [65, 95, 80, 23],\n",
       "       [ 2, 65, 81, 11]], dtype=int32)"
      ]
     },
     "execution_count": 34,
     "metadata": {},
     "output_type": "execute_result"
    }
   ],
   "source": [
    "b"
   ]
  },
  {
   "cell_type": "code",
   "execution_count": 35,
   "id": "fc1d5140-7441-48e3-b4a4-42c99794b411",
   "metadata": {},
   "outputs": [
    {
     "data": {
      "text/plain": [
       "array([  93,  167,  175,  214,  232,  239,  291,  352,  383,  403,  487,\n",
       "        541,  580,  671,  730,  755,  820,  915,  995, 1018, 1020, 1085,\n",
       "       1166, 1177])"
      ]
     },
     "execution_count": 35,
     "metadata": {},
     "output_type": "execute_result"
    }
   ],
   "source": [
    "np.cumsum(b)"
   ]
  },
  {
   "cell_type": "code",
   "execution_count": 36,
   "id": "1a3820f2-0fab-4b84-baf9-c59891f3d156",
   "metadata": {},
   "outputs": [
    {
     "data": {
      "text/plain": [
       "array([[ 93,  74,   8,  39],\n",
       "       [111,  81,  60, 100],\n",
       "       [142, 101, 144, 154],\n",
       "       [181, 192, 203, 179],\n",
       "       [246, 287, 283, 202],\n",
       "       [248, 352, 364, 213]])"
      ]
     },
     "execution_count": 36,
     "metadata": {},
     "output_type": "execute_result"
    }
   ],
   "source": [
    "np.cumsum(b, axis=0)"
   ]
  },
  {
   "cell_type": "code",
   "execution_count": 37,
   "id": "e0b02224-db8f-4d3a-9a38-61be38e6cbc8",
   "metadata": {},
   "outputs": [
    {
     "data": {
      "text/plain": [
       "array([[ 93, 167, 175, 214],\n",
       "       [ 18,  25,  77, 138],\n",
       "       [ 31,  51, 135, 189],\n",
       "       [ 39, 130, 189, 214],\n",
       "       [ 65, 160, 240, 263],\n",
       "       [  2,  67, 148, 159]])"
      ]
     },
     "execution_count": 37,
     "metadata": {},
     "output_type": "execute_result"
    }
   ],
   "source": [
    "np.cumsum(b, axis=1)"
   ]
  },
  {
   "cell_type": "code",
   "execution_count": 38,
   "id": "f54fa722-1d5e-4dad-9498-52962b2d5cc8",
   "metadata": {},
   "outputs": [
    {
     "data": {
      "text/plain": [
       "array([                  52,                 3484,                55744,\n",
       "                    5128448,            261550848,           8108076288,\n",
       "               559457263872,       34126893096192,      989679899789568,\n",
       "          89071190981061120,  8550834334181867520,  8742974936132042752,\n",
       "        7973834980932272128,  5951373514484514816, -1777870590768021504])"
      ]
     },
     "execution_count": 38,
     "metadata": {},
     "output_type": "execute_result"
    }
   ],
   "source": [
    "# np.cumprod\n",
    "\n",
    "np.cumprod(a)"
   ]
  },
  {
   "cell_type": "markdown",
   "id": "f9bb0f7c-9df1-4f70-93e5-f1c34b2d6538",
   "metadata": {},
   "source": [
    "### np.percentile\n",
    "\n",
    "numpy.percentile()function used to compute the nth percentile of the given data (array elements) along the specified axis. \n",
    "\n",
    "https://numpy.org/doc/stable/reference/generated/numpy.percentile.html"
   ]
  },
  {
   "cell_type": "code",
   "execution_count": 39,
   "id": "7e736cf7-247f-4cbf-951a-1e9bb18ccc5c",
   "metadata": {},
   "outputs": [
    {
     "data": {
      "text/plain": [
       "array([52, 67, 16, 92, 51, 31, 69, 61, 29, 90, 96, 83, 41, 10,  9],\n",
       "      dtype=int32)"
      ]
     },
     "execution_count": 39,
     "metadata": {},
     "output_type": "execute_result"
    }
   ],
   "source": [
    "a"
   ]
  },
  {
   "cell_type": "code",
   "execution_count": 40,
   "id": "6920e252-2725-441e-8681-0e4267fcc496",
   "metadata": {},
   "outputs": [
    {
     "data": {
      "text/plain": [
       "np.float64(96.0)"
      ]
     },
     "execution_count": 40,
     "metadata": {},
     "output_type": "execute_result"
    }
   ],
   "source": [
    "np.percentile(a,100)"
   ]
  },
  {
   "cell_type": "code",
   "execution_count": 41,
   "id": "d0cc4717-f99f-4f03-8731-39a72cd9ca80",
   "metadata": {},
   "outputs": [
    {
     "data": {
      "text/plain": [
       "np.float64(9.0)"
      ]
     },
     "execution_count": 41,
     "metadata": {},
     "output_type": "execute_result"
    }
   ],
   "source": [
    "np.percentile(a,0)"
   ]
  },
  {
   "cell_type": "code",
   "execution_count": 42,
   "id": "5befd315-fa43-4fd4-adc3-b80baaaf5416",
   "metadata": {},
   "outputs": [
    {
     "data": {
      "text/plain": [
       "np.float64(52.0)"
      ]
     },
     "execution_count": 42,
     "metadata": {},
     "output_type": "execute_result"
    }
   ],
   "source": [
    "np.percentile(a,50)"
   ]
  },
  {
   "cell_type": "code",
   "execution_count": 43,
   "id": "a670a0ce-87ec-43b7-b6b9-396afc4ec973",
   "metadata": {},
   "outputs": [
    {
     "data": {
      "text/plain": [
       "np.float64(52.0)"
      ]
     },
     "execution_count": 43,
     "metadata": {},
     "output_type": "execute_result"
    }
   ],
   "source": [
    "np.median(a)"
   ]
  },
  {
   "cell_type": "markdown",
   "id": "daca1bfb-6303-4970-9486-d4d15b4edc9c",
   "metadata": {},
   "source": [
    "### np.histogram\n",
    "\n",
    "Numpy has a built-in numpy.histogram() function which represents the frequency of data distribution in the graphical form.\n",
    "\n",
    "https://numpy.org/doc/stable/reference/generated/numpy.histogram.html"
   ]
  },
  {
   "cell_type": "code",
   "execution_count": 44,
   "id": "daa5d84d-1016-4312-84ce-00df21dafcf3",
   "metadata": {},
   "outputs": [
    {
     "data": {
      "text/plain": [
       "array([52, 67, 16, 92, 51, 31, 69, 61, 29, 90, 96, 83, 41, 10,  9],\n",
       "      dtype=int32)"
      ]
     },
     "execution_count": 44,
     "metadata": {},
     "output_type": "execute_result"
    }
   ],
   "source": [
    "a"
   ]
  },
  {
   "cell_type": "code",
   "execution_count": 46,
   "id": "9a0cf19b-c4c5-4152-ae08-fe22140b44df",
   "metadata": {},
   "outputs": [
    {
     "data": {
      "text/plain": [
       "(array([1, 2, 1, 1, 1, 2, 3, 0, 1, 3]),\n",
       " array([  0,  10,  20,  30,  40,  50,  60,  70,  80,  90, 100]))"
      ]
     },
     "execution_count": 46,
     "metadata": {},
     "output_type": "execute_result"
    }
   ],
   "source": [
    "np.histogram(a,bins=[0,10,20,30,40,50,60,70,80,90,100])"
   ]
  },
  {
   "cell_type": "code",
   "execution_count": 45,
   "id": "f622b989-e2e8-4e94-8bec-d590ecde68cf",
   "metadata": {},
   "outputs": [
    {
     "data": {
      "text/plain": [
       "(array([6, 9]), array([  0,  50, 100]))"
      ]
     },
     "execution_count": 45,
     "metadata": {},
     "output_type": "execute_result"
    }
   ],
   "source": [
    "np.histogram(a,bins=[0,50,100])"
   ]
  },
  {
   "cell_type": "markdown",
   "id": "f359be57-2593-412f-a56a-a0d747e0a3f9",
   "metadata": {},
   "source": [
    "### np.corrcoef\n",
    "\n",
    "Return Pearson product-moment correlation coefficients.\n",
    "\n",
    "https://numpy.org/doc/stable/reference/generated/numpy.corrcoef.html"
   ]
  },
  {
   "cell_type": "code",
   "execution_count": 47,
   "id": "3a5a0314-ee1d-4e50-950c-156b9b952642",
   "metadata": {},
   "outputs": [
    {
     "data": {
      "text/plain": [
       "array([[1.        , 0.25344572],\n",
       "       [0.25344572, 1.        ]])"
      ]
     },
     "execution_count": 47,
     "metadata": {},
     "output_type": "execute_result"
    }
   ],
   "source": [
    "salary = np.array([20000,40000,25000,35000,60000])\n",
    "experience = np.array([1,3,2,4,2])\n",
    "\n",
    "np.corrcoef(salary,experience)"
   ]
  },
  {
   "cell_type": "markdown",
   "id": "ef789d2b-89a0-426a-afda-88300f9e1c0b",
   "metadata": {},
   "source": [
    "### np.isin\n",
    "\n",
    "With the help of numpy.isin() method, we can see that one array having values are checked in a different numpy array having different elements with different sizes.\n",
    "\n",
    "https://numpy.org/doc/stable/reference/generated/numpy.isin.html"
   ]
  },
  {
   "cell_type": "code",
   "execution_count": 48,
   "id": "cdc5b20b-ab67-452b-8750-720d4421d250",
   "metadata": {},
   "outputs": [
    {
     "data": {
      "text/plain": [
       "array([52, 67, 16, 92, 51, 31, 69, 61, 29, 90, 96, 83, 41, 10,  9],\n",
       "      dtype=int32)"
      ]
     },
     "execution_count": 48,
     "metadata": {},
     "output_type": "execute_result"
    }
   ],
   "source": [
    "a"
   ]
  },
  {
   "cell_type": "code",
   "execution_count": 49,
   "id": "b3456043-f8e6-440d-beba-89bc530bebde",
   "metadata": {},
   "outputs": [
    {
     "data": {
      "text/plain": [
       "array([90, 10], dtype=int32)"
      ]
     },
     "execution_count": 49,
     "metadata": {},
     "output_type": "execute_result"
    }
   ],
   "source": [
    "items = [10,20,30,40,50,60,70,80,90,100]\n",
    "\n",
    "a[np.isin(a,items)]"
   ]
  },
  {
   "cell_type": "markdown",
   "id": "16d60dc6-350b-4ef3-8638-abbb815eb623",
   "metadata": {},
   "source": [
    "### np.flip\n",
    "\n",
    "The numpy.flip() function reverses the order of array elements along the specified axis, preserving the shape of the array.\n",
    "\n",
    "https://numpy.org/doc/stable/reference/generated/numpy.flip.html"
   ]
  },
  {
   "cell_type": "code",
   "execution_count": 50,
   "id": "dfe3087d-5bb2-4a8d-8b90-7f72e5e896e9",
   "metadata": {},
   "outputs": [
    {
     "data": {
      "text/plain": [
       "array([52, 67, 16, 92, 51, 31, 69, 61, 29, 90, 96, 83, 41, 10,  9],\n",
       "      dtype=int32)"
      ]
     },
     "execution_count": 50,
     "metadata": {},
     "output_type": "execute_result"
    }
   ],
   "source": [
    "a"
   ]
  },
  {
   "cell_type": "code",
   "execution_count": 51,
   "id": "002d65f2-bc34-440b-88b9-b3740826bbe6",
   "metadata": {},
   "outputs": [
    {
     "data": {
      "text/plain": [
       "array([ 9, 10, 41, 83, 96, 90, 29, 61, 69, 31, 51, 92, 16, 67, 52],\n",
       "      dtype=int32)"
      ]
     },
     "execution_count": 51,
     "metadata": {},
     "output_type": "execute_result"
    }
   ],
   "source": [
    "np.flip(a)"
   ]
  },
  {
   "cell_type": "code",
   "execution_count": 52,
   "id": "478cc97e-2e85-4ba7-b65d-f576659f790b",
   "metadata": {},
   "outputs": [
    {
     "data": {
      "text/plain": [
       "array([[93, 74,  8, 39],\n",
       "       [18,  7, 52, 61],\n",
       "       [31, 20, 84, 54],\n",
       "       [39, 91, 59, 25],\n",
       "       [65, 95, 80, 23],\n",
       "       [ 2, 65, 81, 11]], dtype=int32)"
      ]
     },
     "execution_count": 52,
     "metadata": {},
     "output_type": "execute_result"
    }
   ],
   "source": [
    "b"
   ]
  },
  {
   "cell_type": "code",
   "execution_count": 53,
   "id": "86d955a5-4484-447f-b8b6-1b104d159a91",
   "metadata": {},
   "outputs": [
    {
     "data": {
      "text/plain": [
       "array([[11, 81, 65,  2],\n",
       "       [23, 80, 95, 65],\n",
       "       [25, 59, 91, 39],\n",
       "       [54, 84, 20, 31],\n",
       "       [61, 52,  7, 18],\n",
       "       [39,  8, 74, 93]], dtype=int32)"
      ]
     },
     "execution_count": 53,
     "metadata": {},
     "output_type": "execute_result"
    }
   ],
   "source": [
    "np.flip(b)"
   ]
  },
  {
   "cell_type": "code",
   "execution_count": 54,
   "id": "fdd50eca-ef57-4e79-bfaa-997208263ed8",
   "metadata": {},
   "outputs": [
    {
     "data": {
      "text/plain": [
       "array([[ 2, 65, 81, 11],\n",
       "       [65, 95, 80, 23],\n",
       "       [39, 91, 59, 25],\n",
       "       [31, 20, 84, 54],\n",
       "       [18,  7, 52, 61],\n",
       "       [93, 74,  8, 39]], dtype=int32)"
      ]
     },
     "execution_count": 54,
     "metadata": {},
     "output_type": "execute_result"
    }
   ],
   "source": [
    "np.flip(b, axis=0)"
   ]
  },
  {
   "cell_type": "code",
   "execution_count": 55,
   "id": "0c7746d3-96bd-4081-bcac-6af6c9951eda",
   "metadata": {},
   "outputs": [
    {
     "data": {
      "text/plain": [
       "array([[39,  8, 74, 93],\n",
       "       [61, 52,  7, 18],\n",
       "       [54, 84, 20, 31],\n",
       "       [25, 59, 91, 39],\n",
       "       [23, 80, 95, 65],\n",
       "       [11, 81, 65,  2]], dtype=int32)"
      ]
     },
     "execution_count": 55,
     "metadata": {},
     "output_type": "execute_result"
    }
   ],
   "source": [
    "np.flip(b, axis=1)"
   ]
  },
  {
   "cell_type": "markdown",
   "id": "1b8f1531-4aea-4253-88f7-4607466e9779",
   "metadata": {},
   "source": [
    "### np.put\n",
    "\n",
    "The numpy.put() function replaces specific elements of an array with given values of p_array. Array indexed works on flattened array. \n",
    "\n",
    "https://numpy.org/doc/stable/reference/generated/numpy.put.html"
   ]
  },
  {
   "cell_type": "code",
   "execution_count": 56,
   "id": "eb4f579d-683b-4ef8-bb5d-b1ca2aac012d",
   "metadata": {},
   "outputs": [
    {
     "data": {
      "text/plain": [
       "array([52, 67, 16, 92, 51, 31, 69, 61, 29, 90, 96, 83, 41, 10,  9],\n",
       "      dtype=int32)"
      ]
     },
     "execution_count": 56,
     "metadata": {},
     "output_type": "execute_result"
    }
   ],
   "source": [
    "a"
   ]
  },
  {
   "cell_type": "code",
   "execution_count": 57,
   "id": "48be41f3-e481-4d98-a3e1-cb79c0193088",
   "metadata": {},
   "outputs": [],
   "source": [
    "np.put(a,[0,1],[110,530])"
   ]
  },
  {
   "cell_type": "code",
   "execution_count": 58,
   "id": "3ed610ae-ebc0-4147-a228-1e6d38a539c9",
   "metadata": {},
   "outputs": [
    {
     "data": {
      "text/plain": [
       "array([110, 530,  16,  92,  51,  31,  69,  61,  29,  90,  96,  83,  41,\n",
       "        10,   9], dtype=int32)"
      ]
     },
     "execution_count": 58,
     "metadata": {},
     "output_type": "execute_result"
    }
   ],
   "source": [
    "a"
   ]
  },
  {
   "cell_type": "markdown",
   "id": "2d6896c4-8a97-4591-88d7-158ca1388833",
   "metadata": {},
   "source": [
    "### np.delete\n",
    "\n",
    "The numpy.delete() function returns a new array with the deletion of sub-arrays along with the mentioned axis. \n",
    "\n",
    "https://numpy.org/doc/stable/reference/generated/numpy.delete.html"
   ]
  },
  {
   "cell_type": "code",
   "execution_count": 59,
   "id": "6f7785a2-6703-4169-9aee-c21b53d1f074",
   "metadata": {},
   "outputs": [
    {
     "data": {
      "text/plain": [
       "array([110, 530,  16,  92,  51,  31,  69,  61,  29,  90,  96,  83,  41,\n",
       "        10,   9], dtype=int32)"
      ]
     },
     "execution_count": 59,
     "metadata": {},
     "output_type": "execute_result"
    }
   ],
   "source": [
    "a"
   ]
  },
  {
   "cell_type": "code",
   "execution_count": 60,
   "id": "f774fc50-87bd-4ee7-8ed8-d867411d34aa",
   "metadata": {},
   "outputs": [
    {
     "data": {
      "text/plain": [
       "array([530,  92,  31,  69,  61,  29,  90,  96,  83,  41,  10,   9],\n",
       "      dtype=int32)"
      ]
     },
     "execution_count": 60,
     "metadata": {},
     "output_type": "execute_result"
    }
   ],
   "source": [
    "np.delete(a,[0,2,4])"
   ]
  },
  {
   "cell_type": "markdown",
   "id": "93b1b362-8689-43ee-b27a-c82badfd8b9b",
   "metadata": {},
   "source": [
    "### Set functions\n",
    "\n",
    "- np.union1d\n",
    "- np.intersect1d\n",
    "- np.setdiff1d\n",
    "- np.setxor1d\n",
    "- np.in1d"
   ]
  },
  {
   "cell_type": "code",
   "execution_count": 61,
   "id": "02173eb9-b8c3-4b11-9477-64fdf8851c5c",
   "metadata": {},
   "outputs": [
    {
     "data": {
      "text/plain": [
       "array([1, 2, 3, 4, 5, 6, 7])"
      ]
     },
     "execution_count": 61,
     "metadata": {},
     "output_type": "execute_result"
    }
   ],
   "source": [
    "m = np.array([1,2,3,4,5])\n",
    "n = np.array([3,4,5,6,7])\n",
    "\n",
    "np.union1d(m,n)"
   ]
  },
  {
   "cell_type": "code",
   "execution_count": 62,
   "id": "648ccb1d-b354-46f7-8423-65556e42a495",
   "metadata": {},
   "outputs": [
    {
     "data": {
      "text/plain": [
       "array([3, 4, 5])"
      ]
     },
     "execution_count": 62,
     "metadata": {},
     "output_type": "execute_result"
    }
   ],
   "source": [
    "np.intersect1d(m,n)"
   ]
  },
  {
   "cell_type": "code",
   "execution_count": 63,
   "id": "b67f4bd7-b827-4634-b214-713e8868f2c4",
   "metadata": {},
   "outputs": [
    {
     "data": {
      "text/plain": [
       "array([6, 7])"
      ]
     },
     "execution_count": 63,
     "metadata": {},
     "output_type": "execute_result"
    }
   ],
   "source": [
    "np.setdiff1d(n,m)"
   ]
  },
  {
   "cell_type": "code",
   "execution_count": 64,
   "id": "f7d65ebe-8e76-4923-8c49-2f24a7b6499c",
   "metadata": {},
   "outputs": [
    {
     "data": {
      "text/plain": [
       "array([1, 2, 6, 7])"
      ]
     },
     "execution_count": 64,
     "metadata": {},
     "output_type": "execute_result"
    }
   ],
   "source": [
    "np.setxor1d(m,n)"
   ]
  },
  {
   "cell_type": "code",
   "execution_count": 65,
   "id": "13550554-8e15-4192-851e-3ca8482ed223",
   "metadata": {},
   "outputs": [
    {
     "name": "stderr",
     "output_type": "stream",
     "text": [
      "C:\\Users\\KNIGHT RAJ\\AppData\\Local\\Temp\\ipykernel_16440\\524887286.py:1: DeprecationWarning: `in1d` is deprecated. Use `np.isin` instead.\n",
      "  m[np.in1d(m,1)]\n"
     ]
    },
    {
     "data": {
      "text/plain": [
       "array([1])"
      ]
     },
     "execution_count": 65,
     "metadata": {},
     "output_type": "execute_result"
    }
   ],
   "source": [
    "m[np.in1d(m,1)]"
   ]
  },
  {
   "cell_type": "markdown",
   "id": "e24659c0-21a8-40bd-a9a8-7230e3b40659",
   "metadata": {},
   "source": [
    "### np.clip\n",
    "\n",
    "numpy.clip() function is used to Clip (limit) the values in an array.\n",
    "\n",
    "https://numpy.org/doc/stable/reference/generated/numpy.clip.html"
   ]
  },
  {
   "cell_type": "code",
   "execution_count": 66,
   "id": "d4e3fceb-79e7-4df7-9ce8-9cb718d8866c",
   "metadata": {},
   "outputs": [
    {
     "data": {
      "text/plain": [
       "array([110, 530,  16,  92,  51,  31,  69,  61,  29,  90,  96,  83,  41,\n",
       "        10,   9], dtype=int32)"
      ]
     },
     "execution_count": 66,
     "metadata": {},
     "output_type": "execute_result"
    }
   ],
   "source": [
    "a"
   ]
  },
  {
   "cell_type": "code",
   "execution_count": 67,
   "id": "750672e9-1f21-4049-8ac3-3c9d663609fc",
   "metadata": {},
   "outputs": [
    {
     "data": {
      "text/plain": [
       "array([75, 75, 25, 75, 51, 31, 69, 61, 29, 75, 75, 75, 41, 25, 25],\n",
       "      dtype=int32)"
      ]
     },
     "execution_count": 67,
     "metadata": {},
     "output_type": "execute_result"
    }
   ],
   "source": [
    "np.clip(a,a_min=25,a_max=75)"
   ]
  },
  {
   "cell_type": "code",
   "execution_count": 68,
   "id": "db54a272-4dac-4041-a3dc-db53a966305c",
   "metadata": {},
   "outputs": [],
   "source": [
    "# 17. np.swapaxes"
   ]
  },
  {
   "cell_type": "code",
   "execution_count": 70,
   "id": "dbf1ea4f-5845-4437-83de-2cfa85337690",
   "metadata": {},
   "outputs": [],
   "source": [
    "# 18. np.uniform"
   ]
  },
  {
   "cell_type": "code",
   "execution_count": 71,
   "id": "7f00c980-9400-4fd7-85e7-aafa7fff2053",
   "metadata": {},
   "outputs": [],
   "source": [
    "# 19. np.count_nonzero"
   ]
  },
  {
   "cell_type": "code",
   "execution_count": 72,
   "id": "ba3c6bfe-730b-44ca-aebc-509fa1447e00",
   "metadata": {},
   "outputs": [],
   "source": [
    "# 21. np.tile\n",
    "# https://www.kaggle.com/code/abhayparashar31/best-numpy-functions-for-data-science-50?scriptVersionId=98816580"
   ]
  },
  {
   "cell_type": "code",
   "execution_count": 73,
   "id": "d1d1993c-cdae-4199-b3e3-3159e3d4c3ca",
   "metadata": {},
   "outputs": [],
   "source": [
    "# 22. np.repeat\n",
    "# https://towardsdatascience.com/10-numpy-functions-you-should-know-1dc4863764c5"
   ]
  },
  {
   "cell_type": "code",
   "execution_count": 74,
   "id": "8e991b54-185b-4c6e-b438-a77181c759d8",
   "metadata": {},
   "outputs": [],
   "source": [
    "# 25. np.allclose and equals"
   ]
  },
  {
   "cell_type": "code",
   "execution_count": null,
   "id": "0c4f0ed5-81b4-446d-a298-6e8e5d18f82f",
   "metadata": {},
   "outputs": [],
   "source": []
  }
 ],
 "metadata": {
  "kernelspec": {
   "display_name": "Python 3 (ipykernel)",
   "language": "python",
   "name": "python3"
  },
  "language_info": {
   "codemirror_mode": {
    "name": "ipython",
    "version": 3
   },
   "file_extension": ".py",
   "mimetype": "text/x-python",
   "name": "python",
   "nbconvert_exporter": "python",
   "pygments_lexer": "ipython3",
   "version": "3.13.5"
  }
 },
 "nbformat": 4,
 "nbformat_minor": 5
}
