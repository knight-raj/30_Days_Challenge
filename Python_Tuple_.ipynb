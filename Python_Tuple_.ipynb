{
 "cells": [
  {
   "cell_type": "markdown",
   "id": "4ba9ad07-89fb-442c-af41-749fc4771f96",
   "metadata": {},
   "source": [
    "## Tuples\n",
    "### A tuple in Python is similar to a list. The difference between the two is that we cannot change the elements of a tuple once it is assigned whereas we can change the elements of a list.\n",
    "\n",
    "### In short, a tuple is an immutable list. A tuple can not be changed in any way once it is created.\n",
    "\n",
    "### Characterstics\n",
    "\n",
    "- Ordered\n",
    "- Unchangeble\n",
    "- Allows duplicate"
   ]
  },
  {
   "cell_type": "markdown",
   "id": "5ed52319-4902-4786-b10f-cb34f392d9c8",
   "metadata": {},
   "source": [
    "### Plan of attack\n",
    "- Creating a Tuple\n",
    "- Accessing items\n",
    "- Editing items\n",
    "- Adding items\n",
    "- Deleting items\n",
    "- Operations on Tuples\n",
    "- Tuple Functions"
   ]
  },
  {
   "cell_type": "markdown",
   "id": "d6e8c212-060b-4796-9c97-1040d03fd671",
   "metadata": {},
   "source": [
    "## Creating Tuples"
   ]
  },
  {
   "cell_type": "code",
   "execution_count": 1,
   "id": "00b444ee-54ea-4a1b-8127-37aa190beff6",
   "metadata": {},
   "outputs": [
    {
     "name": "stdout",
     "output_type": "stream",
     "text": [
      "()\n",
      "('hello',)\n",
      "<class 'tuple'>\n",
      "(1, 2, 3, 4)\n",
      "(1, 2.5, True, [1, 2, 3])\n",
      "(1, 2, 3, (4, 5))\n",
      "('h', 'e', 'l', 'l', 'o')\n"
     ]
    }
   ],
   "source": [
    "# empty\n",
    "t1 = ()\n",
    "print(t1)\n",
    "# create a tuple with a single item\n",
    "t2 = ('hello',)\n",
    "print(t2)\n",
    "print(type(t2))\n",
    "# homo\n",
    "t3 = (1,2,3,4)\n",
    "print(t3)\n",
    "# hetro\n",
    "t4 = (1,2.5,True,[1,2,3])\n",
    "print(t4)\n",
    "# tuple\n",
    "t5 = (1,2,3,(4,5))\n",
    "print(t5)\n",
    "# using type conversion\n",
    "t6 = tuple('hello')\n",
    "print(t6)"
   ]
  },
  {
   "cell_type": "markdown",
   "id": "3e28da8a-efc5-49a8-b701-a4dd45207bda",
   "metadata": {},
   "source": [
    "### Accessing Items\n",
    "- Indexing\n",
    "- Slicing"
   ]
  },
  {
   "cell_type": "code",
   "execution_count": 2,
   "id": "b7ffc986-1d8a-4907-8066-267867c34cb2",
   "metadata": {},
   "outputs": [
    {
     "name": "stdout",
     "output_type": "stream",
     "text": [
      "(1, 2, 3, 4)\n",
      "1\n",
      "4\n"
     ]
    }
   ],
   "source": [
    "#indexing\n",
    "print(t3)\n",
    "#positive indexing\n",
    "print(t3[0])\n",
    "#Negative indexing\n",
    "print(t3[-1])"
   ]
  },
  {
   "cell_type": "code",
   "execution_count": 22,
   "id": "ef2933a0-be94-4fa7-ac6b-cd7d58e0e091",
   "metadata": {},
   "outputs": [
    {
     "name": "stdout",
     "output_type": "stream",
     "text": [
      "4\n"
     ]
    }
   ],
   "source": [
    "print(t5[-1][0])"
   ]
  },
  {
   "cell_type": "markdown",
   "id": "b26ba23b-3cef-4baf-a106-7a6f6d82219f",
   "metadata": {},
   "source": [
    "### Editing items"
   ]
  },
  {
   "cell_type": "code",
   "execution_count": 4,
   "id": "b994194b-4ba9-4230-857f-fe35a5f49ab1",
   "metadata": {},
   "outputs": [
    {
     "name": "stdout",
     "output_type": "stream",
     "text": [
      "(1, 2, 3, 4)\n"
     ]
    },
    {
     "ename": "TypeError",
     "evalue": "'tuple' object does not support item assignment",
     "output_type": "error",
     "traceback": [
      "\u001b[1;31m---------------------------------------------------------------------------\u001b[0m",
      "\u001b[1;31mTypeError\u001b[0m                                 Traceback (most recent call last)",
      "Cell \u001b[1;32mIn[4], line 2\u001b[0m\n\u001b[0;32m      1\u001b[0m \u001b[38;5;28mprint\u001b[39m(t3)\n\u001b[1;32m----> 2\u001b[0m t3[\u001b[38;5;241m0\u001b[39m] \u001b[38;5;241m=\u001b[39m \u001b[38;5;241m100\u001b[39m\n",
      "\u001b[1;31mTypeError\u001b[0m: 'tuple' object does not support item assignment"
     ]
    }
   ],
   "source": [
    "print(t3)\n",
    "t3[0] = 100\n",
    "# immutable just like strings"
   ]
  },
  {
   "cell_type": "markdown",
   "id": "fd4294a9-daf3-4cd4-a5de-29d2e00c2c57",
   "metadata": {},
   "source": [
    "### Adding items"
   ]
  },
  {
   "cell_type": "code",
   "execution_count": 5,
   "id": "233d62c2-782c-439d-a68a-9f703723d35c",
   "metadata": {},
   "outputs": [
    {
     "name": "stdout",
     "output_type": "stream",
     "text": [
      "(1, 2, 3, 4)\n"
     ]
    }
   ],
   "source": [
    "print(t3)\n",
    "# not possible"
   ]
  },
  {
   "cell_type": "markdown",
   "id": "03a243fb-aec0-452f-b3b8-965240ca4635",
   "metadata": {},
   "source": [
    "### Deleting items"
   ]
  },
  {
   "cell_type": "code",
   "execution_count": 7,
   "id": "170ed5b3-24f2-41cb-acf8-8a8e52fa78ba",
   "metadata": {},
   "outputs": [
    {
     "name": "stdout",
     "output_type": "stream",
     "text": [
      "(1, 2, 3, 4)\n"
     ]
    },
    {
     "ename": "NameError",
     "evalue": "name 't3' is not defined",
     "output_type": "error",
     "traceback": [
      "\u001b[1;31m---------------------------------------------------------------------------\u001b[0m",
      "\u001b[1;31mNameError\u001b[0m                                 Traceback (most recent call last)",
      "Cell \u001b[1;32mIn[7], line 3\u001b[0m\n\u001b[0;32m      1\u001b[0m \u001b[38;5;28mprint\u001b[39m(t3)\n\u001b[0;32m      2\u001b[0m \u001b[38;5;28;01mdel\u001b[39;00m t3\n\u001b[1;32m----> 3\u001b[0m \u001b[38;5;28mprint\u001b[39m(t3)\n",
      "\u001b[1;31mNameError\u001b[0m: name 't3' is not defined"
     ]
    }
   ],
   "source": [
    "print(t3)\n",
    "del t3\n",
    "print(t3)"
   ]
  },
  {
   "cell_type": "code",
   "execution_count": 8,
   "id": "fbe25b1b-3780-4377-9662-e509f00b7f37",
   "metadata": {},
   "outputs": [
    {
     "data": {
      "text/plain": [
       "(5, 4, 3)"
      ]
     },
     "execution_count": 8,
     "metadata": {},
     "output_type": "execute_result"
    }
   ],
   "source": [
    "t = (1,2,3,4,5)\n",
    "\n",
    "t[-1:-4:-1]"
   ]
  },
  {
   "cell_type": "code",
   "execution_count": 9,
   "id": "9ce87a2f-f26c-4c46-965a-f7964071e5f3",
   "metadata": {},
   "outputs": [
    {
     "name": "stdout",
     "output_type": "stream",
     "text": [
      "(1, 2, 3, (4, 5))\n"
     ]
    },
    {
     "ename": "TypeError",
     "evalue": "'tuple' object doesn't support item deletion",
     "output_type": "error",
     "traceback": [
      "\u001b[1;31m---------------------------------------------------------------------------\u001b[0m",
      "\u001b[1;31mTypeError\u001b[0m                                 Traceback (most recent call last)",
      "Cell \u001b[1;32mIn[9], line 2\u001b[0m\n\u001b[0;32m      1\u001b[0m \u001b[38;5;28mprint\u001b[39m(t5)\n\u001b[1;32m----> 2\u001b[0m \u001b[38;5;28;01mdel\u001b[39;00m t5[\u001b[38;5;241m-\u001b[39m\u001b[38;5;241m1\u001b[39m]\n",
      "\u001b[1;31mTypeError\u001b[0m: 'tuple' object doesn't support item deletion"
     ]
    }
   ],
   "source": [
    "print(t5)\n",
    "del t5[-1]"
   ]
  },
  {
   "cell_type": "markdown",
   "id": "4445bfe9-1bdb-4115-86d7-fe5936b10919",
   "metadata": {},
   "source": [
    "### Operations on Tuples"
   ]
  },
  {
   "cell_type": "code",
   "execution_count": 10,
   "id": "3108ca92-1b12-4261-a812-80c5aa489de1",
   "metadata": {},
   "outputs": [
    {
     "name": "stdout",
     "output_type": "stream",
     "text": [
      "(1, 2, 3, 4, 5, 6, 7, 8)\n",
      "(1, 2, 3, 4, 1, 2, 3, 4, 1, 2, 3, 4)\n",
      "1\n",
      "2\n",
      "3\n",
      "4\n"
     ]
    }
   ],
   "source": [
    "# + and *\n",
    "t1 = (1,2,3,4)\n",
    "t2 = (5,6,7,8)\n",
    "\n",
    "print(t1 + t2)\n",
    "\n",
    "print(t1*3)\n",
    "# membership\n",
    "1 in t1\n",
    "# iteration\n",
    "for i in t1:\n",
    "  print(i)"
   ]
  },
  {
   "cell_type": "markdown",
   "id": "9884e305-b4b3-41ae-9fe3-33aac2ee13fb",
   "metadata": {},
   "source": [
    "### Tuple Functions"
   ]
  },
  {
   "cell_type": "code",
   "execution_count": 26,
   "id": "b06579d0-f33a-4f5e-a0a2-8df9110942bd",
   "metadata": {},
   "outputs": [
    {
     "name": "stdout",
     "output_type": "stream",
     "text": [
      "4\n"
     ]
    },
    {
     "data": {
      "text/plain": [
       "[4, 3, 2, 1]"
      ]
     },
     "execution_count": 26,
     "metadata": {},
     "output_type": "execute_result"
    }
   ],
   "source": [
    "# len/sum/min/max/sorted\n",
    "t = (1,2,3,4)\n",
    "\n",
    "print(len(t))\n",
    "\n",
    "sum(t)\n",
    "\n",
    "min(t)\n",
    "\n",
    "max(t)\n",
    "\n",
    "sorted(t,reverse=True)"
   ]
  },
  {
   "cell_type": "code",
   "execution_count": 27,
   "id": "6ab2b101-a033-47f3-ae02-2c8c7395ed15",
   "metadata": {},
   "outputs": [
    {
     "data": {
      "text/plain": [
       "1"
      ]
     },
     "execution_count": 27,
     "metadata": {},
     "output_type": "execute_result"
    }
   ],
   "source": [
    "# count\n",
    "\n",
    "t = (1,2,3,4,5)\n",
    "\n",
    "t.count(5)"
   ]
  },
  {
   "cell_type": "code",
   "execution_count": 28,
   "id": "2e4adcbc-eb4c-4d26-a24c-0a54df713613",
   "metadata": {},
   "outputs": [
    {
     "data": {
      "text/plain": [
       "4"
      ]
     },
     "execution_count": 28,
     "metadata": {},
     "output_type": "execute_result"
    }
   ],
   "source": [
    "# index\n",
    "t.index(5)"
   ]
  },
  {
   "cell_type": "markdown",
   "id": "98c6ce0c-071f-49d1-a140-be4745d1cedb",
   "metadata": {},
   "source": [
    "### Difference between Lists and Tuples\n",
    "- Syntax\n",
    "- Mutability\n",
    "- Speed (tupels are after than list)\n",
    "- Memory (tuples require less space )\n",
    "- Built in functionality(less function in tuple)\n",
    "- Error prone(tuple is good to handle error)\n",
    "- Usability "
   ]
  },
  {
   "cell_type": "code",
   "execution_count": 15,
   "id": "08a82b52-d6f3-4be3-8361-4877ee0c40d3",
   "metadata": {},
   "outputs": [
    {
     "name": "stdout",
     "output_type": "stream",
     "text": [
      "List time 40.249818325042725\n",
      "Tuple time 40.09144878387451\n"
     ]
    }
   ],
   "source": [
    "import time \n",
    "\n",
    "L = list(range(100000000))\n",
    "T = tuple(range(100000000))\n",
    "\n",
    "start = time.time()\n",
    "for i in L:\n",
    "  i*5\n",
    "print('List time',time.time()-start)\n",
    "\n",
    "start = time.time()\n",
    "for i in T:\n",
    "  i*5\n",
    "print('Tuple time',time.time()-start)"
   ]
  },
  {
   "cell_type": "code",
   "execution_count": 16,
   "id": "5a74488f-189b-4c78-8035-3bd1b48de4ea",
   "metadata": {},
   "outputs": [
    {
     "name": "stdout",
     "output_type": "stream",
     "text": [
      "List size 8056\n",
      "Tuple size 8040\n"
     ]
    }
   ],
   "source": [
    "import sys\n",
    "\n",
    "L = list(range(1000))\n",
    "T = tuple(range(1000))\n",
    "\n",
    "print('List size',sys.getsizeof(L))\n",
    "print('Tuple size',sys.getsizeof(T))"
   ]
  },
  {
   "cell_type": "code",
   "execution_count": 17,
   "id": "e0def5e1-c346-4596-8ce3-3648ef8fa072",
   "metadata": {},
   "outputs": [
    {
     "name": "stdout",
     "output_type": "stream",
     "text": [
      "[1, 2, 3, 4]\n",
      "[1, 2, 3, 4]\n"
     ]
    }
   ],
   "source": [
    "a = [1,2,3]\n",
    "b = a\n",
    "\n",
    "a.append(4)\n",
    "print(a)\n",
    "print(b)"
   ]
  },
  {
   "cell_type": "code",
   "execution_count": 18,
   "id": "8b8e1bcb-70c7-40d8-842f-b6b269aa2861",
   "metadata": {},
   "outputs": [
    {
     "name": "stdout",
     "output_type": "stream",
     "text": [
      "(1, 2, 3, 4)\n",
      "(1, 2, 3)\n"
     ]
    }
   ],
   "source": [
    "a = (1,2,3)\n",
    "b = a\n",
    "\n",
    "a = a + (4,)\n",
    "print(a)\n",
    "print(b)"
   ]
  },
  {
   "cell_type": "markdown",
   "id": "e0e4dd19-795d-41fb-bb8e-ab9f322ac00c",
   "metadata": {},
   "source": [
    "## Why use  Tuple?"
   ]
  },
  {
   "cell_type": "markdown",
   "id": "4ca11a7d-644b-4faf-b959-26e0d5d252db",
   "metadata": {},
   "source": [
    "### Special Syntax"
   ]
  },
  {
   "cell_type": "code",
   "execution_count": 19,
   "id": "55c97f1a-9a26-48ec-bbc4-503d6b41eb1a",
   "metadata": {},
   "outputs": [
    {
     "name": "stdout",
     "output_type": "stream",
     "text": [
      "1 2 3\n"
     ]
    }
   ],
   "source": [
    "# tuple unpacking\n",
    "a,b,c = (1,2,3)\n",
    "print(a,b,c)"
   ]
  },
  {
   "cell_type": "code",
   "execution_count": 20,
   "id": "221c920e-195d-49ea-bc77-78d67ca7fdb6",
   "metadata": {},
   "outputs": [
    {
     "ename": "ValueError",
     "evalue": "too many values to unpack (expected 2)",
     "output_type": "error",
     "traceback": [
      "\u001b[1;31m---------------------------------------------------------------------------\u001b[0m",
      "\u001b[1;31mValueError\u001b[0m                                Traceback (most recent call last)",
      "Cell \u001b[1;32mIn[20], line 1\u001b[0m\n\u001b[1;32m----> 1\u001b[0m a,b \u001b[38;5;241m=\u001b[39m (\u001b[38;5;241m1\u001b[39m,\u001b[38;5;241m2\u001b[39m,\u001b[38;5;241m3\u001b[39m)\n\u001b[0;32m      2\u001b[0m \u001b[38;5;28mprint\u001b[39m(a,b)\n",
      "\u001b[1;31mValueError\u001b[0m: too many values to unpack (expected 2)"
     ]
    }
   ],
   "source": [
    "a,b = (1,2,3)\n",
    "print(a,b)"
   ]
  },
  {
   "cell_type": "code",
   "execution_count": 23,
   "id": "d2cd2dca-1a01-4c9d-8a76-019cc2673eca",
   "metadata": {},
   "outputs": [
    {
     "name": "stdout",
     "output_type": "stream",
     "text": [
      "2 1\n"
     ]
    }
   ],
   "source": [
    "# swaping\n",
    "a = 1\n",
    "b = 2\n",
    "a,b = b,a\n",
    "\n",
    "print(a,b)"
   ]
  },
  {
   "cell_type": "code",
   "execution_count": 24,
   "id": "150b4a56-a4a3-4c7c-8b4a-ce727827ff45",
   "metadata": {},
   "outputs": [
    {
     "name": "stdout",
     "output_type": "stream",
     "text": [
      "1 2\n",
      "[3, 4]\n"
     ]
    }
   ],
   "source": [
    "tuple unpacking\n",
    "a,b,*others = (1,2,3,4)\n",
    "print(a,b)\n",
    "print(others)"
   ]
  },
  {
   "cell_type": "code",
   "execution_count": 25,
   "id": "b3c6cfbd-a7af-43ae-9111-480ab24fb76a",
   "metadata": {},
   "outputs": [
    {
     "data": {
      "text/plain": [
       "((1, 5), (2, 6), (3, 7), (4, 8))"
      ]
     },
     "execution_count": 25,
     "metadata": {},
     "output_type": "execute_result"
    }
   ],
   "source": [
    "# zipping tuples\n",
    "a = (1,2,3,4)\n",
    "b = (5,6,7,8)\n",
    "\n",
    "tuple(zip(a,b))"
   ]
  },
  {
   "cell_type": "code",
   "execution_count": null,
   "id": "dd389906-596b-4e04-8287-29577cfbf374",
   "metadata": {},
   "outputs": [],
   "source": []
  }
 ],
 "metadata": {
  "kernelspec": {
   "display_name": "Python 3 (ipykernel)",
   "language": "python",
   "name": "python3"
  },
  "language_info": {
   "codemirror_mode": {
    "name": "ipython",
    "version": 3
   },
   "file_extension": ".py",
   "mimetype": "text/x-python",
   "name": "python",
   "nbconvert_exporter": "python",
   "pygments_lexer": "ipython3",
   "version": "3.12.7"
  }
 },
 "nbformat": 4,
 "nbformat_minor": 5
}
