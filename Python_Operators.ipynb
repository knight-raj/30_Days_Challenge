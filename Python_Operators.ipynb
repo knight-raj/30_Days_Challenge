{
 "cells": [
  {
   "cell_type": "markdown",
   "id": "31cdbc63-d2da-429f-b6b2-922c2ee7b6ad",
   "metadata": {},
   "source": [
    "# Operators"
   ]
  },
  {
   "cell_type": "markdown",
   "id": "81f44e73-3eec-4712-8752-86a529e48755",
   "metadata": {},
   "source": [
    "## Arithmetic Operators"
   ]
  },
  {
   "cell_type": "code",
   "execution_count": 2,
   "id": "ad8c7a24-5909-41f9-8446-ee5b036604d5",
   "metadata": {},
   "outputs": [
    {
     "name": "stdout",
     "output_type": "stream",
     "text": [
      "11\n",
      "-1\n",
      "30\n",
      "2.5\n",
      "2\n",
      "1\n",
      "25\n"
     ]
    }
   ],
   "source": [
    "print(5+6)\n",
    "\n",
    "print(5-6)\n",
    "\n",
    "print(5*6)\n",
    "\n",
    "print(5/2)\n",
    "\n",
    "print(5//2) # interdevision \n",
    "\n",
    "print(5%2)\n",
    "\n",
    "print(5**2)"
   ]
  },
  {
   "cell_type": "markdown",
   "id": "91e799ce-11fe-4837-9380-4a27ad893c26",
   "metadata": {},
   "source": [
    "## Relational Operators"
   ]
  },
  {
   "cell_type": "code",
   "execution_count": 3,
   "id": "e10dd948-6e70-455f-b7e5-85e1e44e4755",
   "metadata": {},
   "outputs": [
    {
     "name": "stdout",
     "output_type": "stream",
     "text": [
      "False\n",
      "True\n",
      "True\n",
      "True\n",
      "True\n",
      "False\n"
     ]
    }
   ],
   "source": [
    "print(4>5)\n",
    "\n",
    "print(4<5)\n",
    "\n",
    "print(4>=4)\n",
    "\n",
    "print(4<=4)\n",
    "\n",
    "print(4==4)\n",
    "\n",
    "print(4!=4)"
   ]
  },
  {
   "cell_type": "markdown",
   "id": "e4a59b7b-2645-4cbb-b2a9-9e48898e9fbc",
   "metadata": {},
   "source": [
    "## Logical Operators"
   ]
  },
  {
   "cell_type": "code",
   "execution_count": 4,
   "id": "d7c493c0-a231-4bb3-883b-7c3f91d948a7",
   "metadata": {},
   "outputs": [
    {
     "name": "stdout",
     "output_type": "stream",
     "text": [
      "0\n",
      "1\n",
      "False\n"
     ]
    }
   ],
   "source": [
    "print(1 and 0)\n",
    "\n",
    "print(1 or 0)\n",
    "\n",
    "print( not 1)\n"
   ]
  },
  {
   "cell_type": "markdown",
   "id": "37f90ef7-2df0-4b36-8b82-d35832f3041a",
   "metadata": {},
   "source": [
    "## Bitwise Operators"
   ]
  },
  {
   "cell_type": "code",
   "execution_count": 9,
   "id": "fc01431d-a2da-49fe-9d07-1827d1eba0b6",
   "metadata": {},
   "outputs": [
    {
     "name": "stdout",
     "output_type": "stream",
     "text": [
      "2\n",
      "3\n",
      "1\n",
      "-4\n",
      "1\n",
      "16\n"
     ]
    }
   ],
   "source": [
    "#bitwise and\n",
    "print(2 & 3)\n",
    "\n",
    "#Bitwise or\n",
    "print(2 | 3)\n",
    "\n",
    "#Bitwise xor\n",
    "print(2 ^ 3)\n",
    "\n",
    "#bitwise nor\n",
    "print(~3)\n",
    "\n",
    "#bitwise left \n",
    "print(4 >> 2)\n",
    "\n",
    "#bitwise Right \n",
    "print(4 << 2)"
   ]
  },
  {
   "cell_type": "markdown",
   "id": "8ac859c0-8b89-49af-b852-b42113138d9d",
   "metadata": {},
   "source": [
    "## Assigment Operators"
   ]
  },
  {
   "cell_type": "code",
   "execution_count": 11,
   "id": "b6c35d05-3fe1-41ed-8e58-8949e512fd69",
   "metadata": {},
   "outputs": [
    {
     "name": "stdout",
     "output_type": "stream",
     "text": [
      "4\n"
     ]
    }
   ],
   "source": [
    " # =  --> Assigment Operators'\n",
    " # a++ , +aa Not allowed\n",
    "a =2 \n",
    "\n",
    "# a = a + 2\n",
    "a += 2\n",
    "\n",
    "print(a)"
   ]
  },
  {
   "cell_type": "markdown",
   "id": "0c007b17-b6e4-4ab3-8df5-90ccee0132f6",
   "metadata": {},
   "source": [
    "## Membership Operators"
   ]
  },
  {
   "cell_type": "code",
   "execution_count": 14,
   "id": "4d962689-b62b-4c6b-b705-8b0f81c657f1",
   "metadata": {},
   "outputs": [
    {
     "name": "stdout",
     "output_type": "stream",
     "text": [
      "True\n",
      "False\n",
      "False\n"
     ]
    }
   ],
   "source": [
    "# in/not in\n",
    "\n",
    "print('D' in 'Delhi')\n",
    "\n",
    "print('D' not in 'Delhi')\n",
    "\n",
    "print( 1 in [2,3,45,6,7])"
   ]
  },
  {
   "cell_type": "code",
   "execution_count": 16,
   "id": "106170e1-38bf-4653-ac9a-065abf6a0107",
   "metadata": {},
   "outputs": [
    {
     "name": "stdin",
     "output_type": "stream",
     "text": [
      "Enter a first number  4\n",
      "Enter a Secound number  5\n",
      "Enter a Third number  6\n"
     ]
    },
    {
     "name": "stdout",
     "output_type": "stream",
     "text": [
      "Sum of three number  15\n"
     ]
    }
   ],
   "source": [
    "# program - FInd the sum of a 3 digit number entered b the user\n",
    "\n",
    "a = int(input('Enter a first number '))\n",
    "b = int(input('Enter a Secound number '))\n",
    "c = int(input('Enter a Third number '))\n",
    "\n",
    "print('Sum of three number ',a+b+c)"
   ]
  },
  {
   "cell_type": "code",
   "execution_count": 18,
   "id": "56211dc6-a0c7-4e20-bb50-3bb945b6f4a4",
   "metadata": {},
   "outputs": [
    {
     "name": "stdin",
     "output_type": "stream",
     "text": [
      "Enter a 3 digit number  555\n"
     ]
    },
    {
     "name": "stdout",
     "output_type": "stream",
     "text": [
      "15\n"
     ]
    }
   ],
   "source": [
    "# program - FInd the sum of a 3 digit number entered b the user\n",
    "\n",
    "number = int(input('Enter a 3 digit number '))\n",
    "#345% 10 -> 5\n",
    "a = number % 10\n",
    "\n",
    "number  = number // 10\n",
    "\n",
    "#34 %10 -> 4\n",
    "b = number%10\n",
    "\n",
    "number  = number // 10\n",
    "\n",
    "#3 % 10 -> 3\n",
    "c = number%10\n",
    "\n",
    "print(a+b+c)"
   ]
  },
  {
   "cell_type": "code",
   "execution_count": 24,
   "id": "98f5b4d1-177a-4f94-9294-ce6371a1dbc6",
   "metadata": {},
   "outputs": [
    {
     "name": "stdin",
     "output_type": "stream",
     "text": [
      "First num 4\n",
      "Secound num 4\n",
      "Third num 4\n"
     ]
    },
    {
     "name": "stdout",
     "output_type": "stream",
     "text": [
      "Samllest num is  4\n"
     ]
    }
   ],
   "source": [
    "# 1. Find the min of  given number\n",
    "a = int(input('First num'))\n",
    "b = int(input('Secound num'))\n",
    "c = int(input('Third num'))\n",
    "\n",
    "if a<b and a<c:\n",
    "    print('Samllest num is ' , a)\n",
    "elif b<c:\n",
    "    print('Samllest num is ' , b)\n",
    "else:\n",
    "    print('Samllest num is ' , c)"
   ]
  },
  {
   "cell_type": "code",
   "execution_count": 29,
   "id": "28c5e02d-9f29-40c2-9808-2c876e74f157",
   "metadata": {},
   "outputs": [
    {
     "name": "stdin",
     "output_type": "stream",
     "text": [
      "Enter First num  5\n",
      "Enter Secound num  4\n",
      "Enter your Operation /\n"
     ]
    },
    {
     "name": "stdout",
     "output_type": "stream",
     "text": [
      "1.25\n"
     ]
    }
   ],
   "source": [
    "#  Menu Driven Program\n",
    "fnum = int(input('Enter First num '))\n",
    "snum = int(input('Enter Secound num '))\n",
    "\n",
    "op = input('Enter your Operation')\n",
    "\n",
    "if op == '+':\n",
    "    print(fnum + snum)\n",
    "elif op == '-':\n",
    "    print(fnum - snum)\n",
    "elif op == '*':\n",
    "    print(fnum * snum)\n",
    "else:\n",
    "    print(fnum / snum)\n"
   ]
  },
  {
   "cell_type": "markdown",
   "id": "86ebd0cb-33e7-493a-b4b8-dcb84236d802",
   "metadata": {},
   "source": [
    "# Module in Python\n",
    "- math\n",
    "- keywords\n",
    "- random\n",
    "- datetime\n"
   ]
  },
  {
   "cell_type": "code",
   "execution_count": 31,
   "id": "75fc5b40-2e1d-4b21-87aa-daee48267d3d",
   "metadata": {},
   "outputs": [
    {
     "data": {
      "text/plain": [
       "5"
      ]
     },
     "execution_count": 31,
     "metadata": {},
     "output_type": "execute_result"
    }
   ],
   "source": [
    "# math\n",
    "import math\n",
    "\n",
    "math.floor(5.8)"
   ]
  },
  {
   "cell_type": "code",
   "execution_count": 32,
   "id": "8ae2f725-590d-4fb7-b86c-d82cce58aafc",
   "metadata": {},
   "outputs": [
    {
     "name": "stdout",
     "output_type": "stream",
     "text": [
      "['False', 'None', 'True', 'and', 'as', 'assert', 'async', 'await', 'break', 'class', 'continue', 'def', 'del', 'elif', 'else', 'except', 'finally', 'for', 'from', 'global', 'if', 'import', 'in', 'is', 'lambda', 'nonlocal', 'not', 'or', 'pass', 'raise', 'return', 'try', 'while', 'with', 'yield']\n"
     ]
    }
   ],
   "source": [
    "#keyword\n",
    "import keyword\n",
    "print(keyword.kwlist)"
   ]
  },
  {
   "cell_type": "code",
   "execution_count": 34,
   "id": "322a5890-0789-4870-a3ce-ded6c90c059f",
   "metadata": {},
   "outputs": [
    {
     "name": "stdout",
     "output_type": "stream",
     "text": [
      "95\n"
     ]
    }
   ],
   "source": [
    "#random\n",
    "import random\n",
    "print(random.randint(1,100))"
   ]
  },
  {
   "cell_type": "code",
   "execution_count": 35,
   "id": "216179fa-d424-4af9-ab17-86452063e1af",
   "metadata": {},
   "outputs": [
    {
     "name": "stdout",
     "output_type": "stream",
     "text": [
      "2025-03-03 18:54:56.851599\n"
     ]
    }
   ],
   "source": [
    "# datetime\n",
    "import datetime\n",
    "print(datetime.datetime.now())"
   ]
  },
  {
   "cell_type": "code",
   "execution_count": null,
   "id": "8fbb8c31-3681-4915-b3e9-834a408412ac",
   "metadata": {},
   "outputs": [],
   "source": [
    "#help('modules')"
   ]
  },
  {
   "cell_type": "code",
   "execution_count": null,
   "id": "5443157e-87b2-4689-84f6-8642077b3269",
   "metadata": {},
   "outputs": [],
   "source": []
  },
  {
   "cell_type": "code",
   "execution_count": null,
   "id": "1b7b13de-1c94-4bb8-bfc2-05d14a89e94b",
   "metadata": {},
   "outputs": [],
   "source": []
  }
 ],
 "metadata": {
  "kernelspec": {
   "display_name": "Python 3 (ipykernel)",
   "language": "python",
   "name": "python3"
  },
  "language_info": {
   "codemirror_mode": {
    "name": "ipython",
    "version": 3
   },
   "file_extension": ".py",
   "mimetype": "text/x-python",
   "name": "python",
   "nbconvert_exporter": "python",
   "pygments_lexer": "ipython3",
   "version": "3.12.7"
  }
 },
 "nbformat": 4,
 "nbformat_minor": 5
}
