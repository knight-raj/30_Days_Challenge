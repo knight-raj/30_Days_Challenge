{
 "cells": [
  {
   "cell_type": "markdown",
   "id": "92694145-1a36-4ed2-a5a0-f980d055b9d5",
   "metadata": {},
   "source": [
    "### String are sequence of Characters\n",
    "### In python specifically, string are a sequence of Unicode Characters\n",
    "- Creating Strings\n",
    "- Accessing Strings\n",
    "- Adding Char to Strings\n",
    "- Editing Strings\n",
    "- Deleting Strings\n",
    "- Operations on Strings\n",
    "- String Functions"
   ]
  },
  {
   "cell_type": "markdown",
   "id": "86b18a35-21a4-4c5f-bcff-c56bd7358b2f",
   "metadata": {},
   "source": [
    "## Creating Strings\n"
   ]
  },
  {
   "cell_type": "code",
   "execution_count": 3,
   "id": "2dc8eab9-ae90-4cab-b4c0-d015245f4cd4",
   "metadata": {},
   "outputs": [
    {
     "name": "stdout",
     "output_type": "stream",
     "text": [
      "hello\n"
     ]
    }
   ],
   "source": [
    "s = 'hello'\n",
    "s = \"hello\"\n",
    "#Mutiline Strings\n",
    "s= '''hello'''\n",
    "s = \"\"\"hello\"\"\"\n",
    "s = str('hello')\n",
    "\n",
    "print(s)"
   ]
  },
  {
   "cell_type": "code",
   "execution_count": 2,
   "id": "87a00b28-6800-4202-b933-715f667ef293",
   "metadata": {},
   "outputs": [
    {
     "name": "stdout",
     "output_type": "stream",
     "text": [
      "It's raining outside\n"
     ]
    }
   ],
   "source": [
    "print(\"It's raining outside\")"
   ]
  },
  {
   "cell_type": "markdown",
   "id": "36883f8d-6d36-4260-b519-c4e19e166b1f",
   "metadata": {},
   "source": [
    "## Accessing Substring from a String"
   ]
  },
  {
   "cell_type": "code",
   "execution_count": 5,
   "id": "d7fe8987-78cd-4d4e-9b7a-067c22771f08",
   "metadata": {},
   "outputs": [
    {
     "name": "stdout",
     "output_type": "stream",
     "text": [
      "h\n"
     ]
    }
   ],
   "source": [
    "# Positive Indexing\n",
    "s  = 'hello world'\n",
    "print(s[0])"
   ]
  },
  {
   "cell_type": "code",
   "execution_count": 6,
   "id": "d50e440f-7957-466a-ab11-973a54552a89",
   "metadata": {},
   "outputs": [
    {
     "name": "stdout",
     "output_type": "stream",
     "text": [
      "d\n"
     ]
    }
   ],
   "source": [
    "# Negative Indexing\n",
    "s  = 'hello world'\n",
    "print(s[-1])"
   ]
  },
  {
   "cell_type": "code",
   "execution_count": 7,
   "id": "35938de1-fe9b-428e-ab35-3f95c41ec610",
   "metadata": {},
   "outputs": [
    {
     "name": "stdout",
     "output_type": "stream",
     "text": [
      "hello\n"
     ]
    }
   ],
   "source": [
    "# Slicing\n",
    "s  = 'hello world'\n",
    "print(s[0:5])"
   ]
  },
  {
   "cell_type": "code",
   "execution_count": 8,
   "id": "4aa59b59-e874-416e-88fc-ab806ba7485a",
   "metadata": {},
   "outputs": [
    {
     "name": "stdout",
     "output_type": "stream",
     "text": [
      "llo world\n"
     ]
    }
   ],
   "source": [
    "s  = 'hello world'\n",
    "print(s[2:])"
   ]
  },
  {
   "cell_type": "code",
   "execution_count": 9,
   "id": "5a4b596a-d5d8-442e-8fa1-efb294ca330d",
   "metadata": {},
   "outputs": [
    {
     "name": "stdout",
     "output_type": "stream",
     "text": [
      "hello w\n"
     ]
    }
   ],
   "source": [
    "s  = 'hello world'\n",
    "print(s[:7])"
   ]
  },
  {
   "cell_type": "code",
   "execution_count": 10,
   "id": "05e80ea0-c470-4e79-9720-aefd08a906f7",
   "metadata": {},
   "outputs": [
    {
     "name": "stdout",
     "output_type": "stream",
     "text": [
      "hello world\n"
     ]
    }
   ],
   "source": [
    "s  = 'hello world'\n",
    "print(s[:])"
   ]
  },
  {
   "cell_type": "code",
   "execution_count": 11,
   "id": "15b87e62-21da-456a-8dc0-b5fce3642870",
   "metadata": {},
   "outputs": [
    {
     "name": "stdout",
     "output_type": "stream",
     "text": [
      "hlow\n"
     ]
    }
   ],
   "source": [
    "s  = 'hello world'\n",
    "print(s[0:7:2])"
   ]
  },
  {
   "cell_type": "code",
   "execution_count": 13,
   "id": "5fd7dd64-96fe-445f-9972-e472d5f850ed",
   "metadata": {},
   "outputs": [
    {
     "name": "stdout",
     "output_type": "stream",
     "text": [
      "w olle\n"
     ]
    }
   ],
   "source": [
    "s  = 'hello world'\n",
    "print(s[6:0:-1])"
   ]
  },
  {
   "cell_type": "code",
   "execution_count": 14,
   "id": "89919074-06c9-4e9c-9a82-1da8698b9a98",
   "metadata": {},
   "outputs": [
    {
     "name": "stdout",
     "output_type": "stream",
     "text": [
      "wol\n"
     ]
    }
   ],
   "source": [
    "s  = 'hello world'\n",
    "print(s[6:0:-2])"
   ]
  },
  {
   "cell_type": "code",
   "execution_count": 15,
   "id": "a28eece9-94ac-49cb-b866-29d829230a15",
   "metadata": {},
   "outputs": [
    {
     "name": "stdout",
     "output_type": "stream",
     "text": [
      "dlrow olleh\n"
     ]
    }
   ],
   "source": [
    "s  = 'hello world'\n",
    "print(s[::-1])"
   ]
  },
  {
   "cell_type": "code",
   "execution_count": 16,
   "id": "3599f98b-142a-44f2-9b2d-2a4743519bc0",
   "metadata": {},
   "outputs": [
    {
     "name": "stdout",
     "output_type": "stream",
     "text": [
      "world\n"
     ]
    }
   ],
   "source": [
    "s  = 'hello world'\n",
    "print(s[-5:])"
   ]
  },
  {
   "cell_type": "code",
   "execution_count": 17,
   "id": "198e9516-5f46-4b09-9bc5-072568c54144",
   "metadata": {},
   "outputs": [
    {
     "name": "stdout",
     "output_type": "stream",
     "text": [
      "dlrow\n"
     ]
    }
   ],
   "source": [
    "s  = 'hello world'\n",
    "print(s[-1:-6:-1])"
   ]
  },
  {
   "cell_type": "markdown",
   "id": "f9aa5a67-d2de-4ea9-b8dd-0fabb0e0ffd0",
   "metadata": {},
   "source": [
    "## Editing and Deleting in Strings"
   ]
  },
  {
   "cell_type": "code",
   "execution_count": 18,
   "id": "2a573ad9-6957-44f3-ac86-9e6524074a57",
   "metadata": {},
   "outputs": [
    {
     "ename": "TypeError",
     "evalue": "'str' object does not support item assignment",
     "output_type": "error",
     "traceback": [
      "\u001b[1;31m---------------------------------------------------------------------------\u001b[0m",
      "\u001b[1;31mTypeError\u001b[0m                                 Traceback (most recent call last)",
      "Cell \u001b[1;32mIn[18], line 3\u001b[0m\n\u001b[0;32m      1\u001b[0m \u001b[38;5;66;03m# Python string are immutable\u001b[39;00m\n\u001b[0;32m      2\u001b[0m s  \u001b[38;5;241m=\u001b[39m \u001b[38;5;124m'\u001b[39m\u001b[38;5;124mhello world\u001b[39m\u001b[38;5;124m'\u001b[39m\n\u001b[1;32m----> 3\u001b[0m s[\u001b[38;5;241m0\u001b[39m] \u001b[38;5;241m=\u001b[39m \u001b[38;5;124m'\u001b[39m\u001b[38;5;124mH\u001b[39m\u001b[38;5;124m'\u001b[39m\n",
      "\u001b[1;31mTypeError\u001b[0m: 'str' object does not support item assignment"
     ]
    }
   ],
   "source": [
    "# Python string are immutable\n",
    "s  = 'hello world'\n",
    "s[0] = 'H'"
   ]
  },
  {
   "cell_type": "code",
   "execution_count": 21,
   "id": "f9c80064-78ea-47a7-b605-c5b986a8a8da",
   "metadata": {},
   "outputs": [
    {
     "ename": "NameError",
     "evalue": "name 's' is not defined",
     "output_type": "error",
     "traceback": [
      "\u001b[1;31m---------------------------------------------------------------------------\u001b[0m",
      "\u001b[1;31mNameError\u001b[0m                                 Traceback (most recent call last)",
      "Cell \u001b[1;32mIn[21], line 4\u001b[0m\n\u001b[0;32m      1\u001b[0m s  \u001b[38;5;241m=\u001b[39m \u001b[38;5;124m'\u001b[39m\u001b[38;5;124mhello world\u001b[39m\u001b[38;5;124m'\u001b[39m\n\u001b[0;32m      2\u001b[0m \u001b[38;5;28;01mdel\u001b[39;00m s\n\u001b[1;32m----> 4\u001b[0m \u001b[38;5;28mprint\u001b[39m(s)\n",
      "\u001b[1;31mNameError\u001b[0m: name 's' is not defined"
     ]
    }
   ],
   "source": [
    "s  = 'hello world'\n",
    "del s\n",
    "print(s)"
   ]
  },
  {
   "cell_type": "markdown",
   "id": "6f816c93-3877-4ce0-bcce-ad9a5eef728b",
   "metadata": {},
   "source": [
    "## Operations on Strings\n",
    "- Arithmetic Operations\n",
    "- Relational Operations\n",
    "- Logical Operations'\n",
    "- Loops on Strings\n",
    "- Membership Operations\n",
    "  "
   ]
  },
  {
   "cell_type": "code",
   "execution_count": 23,
   "id": "cbb2f919-03f3-4b9b-a917-4fd70c3be4be",
   "metadata": {},
   "outputs": [
    {
     "name": "stdout",
     "output_type": "stream",
     "text": [
      "Delhi Mumbai\n"
     ]
    }
   ],
   "source": [
    "# Arithmetic Operations\n",
    "print('Delhi' +' ' +'Mumbai') # only two Arithmetic Operations is working + and *"
   ]
  },
  {
   "cell_type": "code",
   "execution_count": 24,
   "id": "e34aa86f-4806-4aaa-bd1e-66234fd55790",
   "metadata": {},
   "outputs": [
    {
     "name": "stdout",
     "output_type": "stream",
     "text": [
      "DelhiDelhiDelhiDelhiDelhi\n"
     ]
    }
   ],
   "source": [
    "print('Delhi' * 5)"
   ]
  },
  {
   "cell_type": "code",
   "execution_count": 25,
   "id": "6b9bc317-f16f-4b82-bfa8-a2f09313bf14",
   "metadata": {},
   "outputs": [
    {
     "name": "stdout",
     "output_type": "stream",
     "text": [
      "False\n"
     ]
    }
   ],
   "source": [
    "# Relational Operations\n",
    "print('delhi' == 'mumbai')"
   ]
  },
  {
   "cell_type": "code",
   "execution_count": 26,
   "id": "d1309da9-d1bd-4d36-bba9-2d1f1e78334f",
   "metadata": {},
   "outputs": [
    {
     "name": "stdout",
     "output_type": "stream",
     "text": [
      "False\n"
     ]
    }
   ],
   "source": [
    "print('mimbai' > 'pune')\n",
    "# compare lexiographically"
   ]
  },
  {
   "cell_type": "code",
   "execution_count": 27,
   "id": "93b4c7fc-1971-4a26-88ae-fdfc7d71ad83",
   "metadata": {},
   "outputs": [
    {
     "name": "stdout",
     "output_type": "stream",
     "text": [
      "True\n"
     ]
    }
   ],
   "source": [
    "print('delhi' != 'mumbai')"
   ]
  },
  {
   "cell_type": "code",
   "execution_count": 28,
   "id": "6b15a1f4-5fcf-44c8-866c-b83031e75d1e",
   "metadata": {},
   "outputs": [
    {
     "data": {
      "text/plain": [
       "'world'"
      ]
     },
     "execution_count": 28,
     "metadata": {},
     "output_type": "execute_result"
    }
   ],
   "source": [
    "# Logical Operations\n",
    "'hello' and 'world'"
   ]
  },
  {
   "cell_type": "code",
   "execution_count": 29,
   "id": "cf168216-e083-4b31-acc5-a83038c830cb",
   "metadata": {},
   "outputs": [
    {
     "data": {
      "text/plain": [
       "'hello'"
      ]
     },
     "execution_count": 29,
     "metadata": {},
     "output_type": "execute_result"
    }
   ],
   "source": [
    "'hello' or 'world'"
   ]
  },
  {
   "cell_type": "code",
   "execution_count": 30,
   "id": "edab897d-aafc-4366-aec6-c92b6db5f111",
   "metadata": {},
   "outputs": [
    {
     "data": {
      "text/plain": [
       "True"
      ]
     },
     "execution_count": 30,
     "metadata": {},
     "output_type": "execute_result"
    }
   ],
   "source": [
    "not ''"
   ]
  },
  {
   "cell_type": "code",
   "execution_count": 31,
   "id": "11195045-92f3-43a7-811c-45a9e3b4e7a7",
   "metadata": {},
   "outputs": [
    {
     "data": {
      "text/plain": [
       "False"
      ]
     },
     "execution_count": 31,
     "metadata": {},
     "output_type": "execute_result"
    }
   ],
   "source": [
    "not 'hello'"
   ]
  },
  {
   "cell_type": "code",
   "execution_count": 32,
   "id": "c8fe7ed1-fdad-4758-a129-fdb9b9d850c4",
   "metadata": {},
   "outputs": [
    {
     "name": "stdout",
     "output_type": "stream",
     "text": [
      "h\n",
      "e\n",
      "l\n",
      "l\n",
      "o\n"
     ]
    }
   ],
   "source": [
    "# Loops on Strings\n",
    "for i in 'hello':\n",
    "    print(i)"
   ]
  },
  {
   "cell_type": "code",
   "execution_count": 33,
   "id": "e4c21d41-407a-46a0-a108-fe684e1bf121",
   "metadata": {},
   "outputs": [
    {
     "name": "stdout",
     "output_type": "stream",
     "text": [
      "pune\n",
      "pune\n",
      "pune\n",
      "pune\n",
      "pune\n"
     ]
    }
   ],
   "source": [
    "for i in 'delhi':\n",
    "    print('pune')"
   ]
  },
  {
   "cell_type": "code",
   "execution_count": 34,
   "id": "1db4712f-a40f-444e-a591-f2a12965b109",
   "metadata": {},
   "outputs": [
    {
     "data": {
      "text/plain": [
       "True"
      ]
     },
     "execution_count": 34,
     "metadata": {},
     "output_type": "execute_result"
    }
   ],
   "source": [
    "# Membership Operations\n",
    "'D' in 'Delhi'"
   ]
  },
  {
   "cell_type": "code",
   "execution_count": 35,
   "id": "8f208809-e6a3-4b95-9eb0-146ea8a2c178",
   "metadata": {},
   "outputs": [
    {
     "data": {
      "text/plain": [
       "False"
      ]
     },
     "execution_count": 35,
     "metadata": {},
     "output_type": "execute_result"
    }
   ],
   "source": [
    "'D' not in 'Delhi'"
   ]
  },
  {
   "cell_type": "markdown",
   "id": "2677aa9d-f40a-422d-802a-dcdb55669796",
   "metadata": {},
   "source": [
    "## Common Functions\n",
    "- len\n",
    "- max\n",
    "- min\n",
    "- sorted"
   ]
  },
  {
   "cell_type": "code",
   "execution_count": 36,
   "id": "8b0ffa98-54a5-4060-9a66-4b5316b0be5c",
   "metadata": {},
   "outputs": [
    {
     "data": {
      "text/plain": [
       "11"
      ]
     },
     "execution_count": 36,
     "metadata": {},
     "output_type": "execute_result"
    }
   ],
   "source": [
    "# len\n",
    "len('hello world')"
   ]
  },
  {
   "cell_type": "code",
   "execution_count": 37,
   "id": "c3263c71-23ce-4f7f-a9fa-4343e5febfee",
   "metadata": {},
   "outputs": [
    {
     "data": {
      "text/plain": [
       "'w'"
      ]
     },
     "execution_count": 37,
     "metadata": {},
     "output_type": "execute_result"
    }
   ],
   "source": [
    "#max\n",
    "max('hello world')"
   ]
  },
  {
   "cell_type": "code",
   "execution_count": 38,
   "id": "f95e9e43-c790-4a7f-ad2e-aaaec269d2f3",
   "metadata": {},
   "outputs": [
    {
     "data": {
      "text/plain": [
       "' '"
      ]
     },
     "execution_count": 38,
     "metadata": {},
     "output_type": "execute_result"
    }
   ],
   "source": [
    "#min\n",
    "min('hello world')"
   ]
  },
  {
   "cell_type": "code",
   "execution_count": 39,
   "id": "ffcaecc0-be0f-4c2b-bde2-4287dc158073",
   "metadata": {},
   "outputs": [
    {
     "data": {
      "text/plain": [
       "[' ', 'd', 'e', 'h', 'l', 'l', 'l', 'o', 'o', 'r', 'w']"
      ]
     },
     "execution_count": 39,
     "metadata": {},
     "output_type": "execute_result"
    }
   ],
   "source": [
    "# sorted\n",
    "sorted('hello world')"
   ]
  },
  {
   "cell_type": "code",
   "execution_count": 40,
   "id": "91824995-f92c-4e7e-b634-e4050c10ee0e",
   "metadata": {},
   "outputs": [
    {
     "data": {
      "text/plain": [
       "['w', 'r', 'o', 'o', 'l', 'l', 'l', 'h', 'e', 'd', ' ']"
      ]
     },
     "execution_count": 40,
     "metadata": {},
     "output_type": "execute_result"
    }
   ],
   "source": [
    "sorted('hello world', reverse = True)"
   ]
  },
  {
   "cell_type": "markdown",
   "id": "8a169ba5-b2da-4fda-89db-901ebdd91f85",
   "metadata": {},
   "source": [
    "## Capitalize/Title/Upper/Lower/Swapcase"
   ]
  },
  {
   "cell_type": "code",
   "execution_count": 42,
   "id": "e8303277-6c44-49b6-92e4-e75d2c2770eb",
   "metadata": {},
   "outputs": [
    {
     "data": {
      "text/plain": [
       "'Hello world'"
      ]
     },
     "execution_count": 42,
     "metadata": {},
     "output_type": "execute_result"
    }
   ],
   "source": [
    "#Capitalize\n",
    "s = 'hello world'\n",
    "s.capitalize()"
   ]
  },
  {
   "cell_type": "code",
   "execution_count": 43,
   "id": "b0288319-6d7d-4906-ac6e-afd216dc873a",
   "metadata": {},
   "outputs": [
    {
     "data": {
      "text/plain": [
       "'Hello World'"
      ]
     },
     "execution_count": 43,
     "metadata": {},
     "output_type": "execute_result"
    }
   ],
   "source": [
    "#Title\n",
    "s.title()"
   ]
  },
  {
   "cell_type": "code",
   "execution_count": 44,
   "id": "9d94f60e-a7dd-46a4-9283-7271b59c494d",
   "metadata": {},
   "outputs": [
    {
     "data": {
      "text/plain": [
       "'HELLO WORLD'"
      ]
     },
     "execution_count": 44,
     "metadata": {},
     "output_type": "execute_result"
    }
   ],
   "source": [
    "#Upper\n",
    "s.upper()"
   ]
  },
  {
   "cell_type": "code",
   "execution_count": 45,
   "id": "59d8dcf2-28b0-42e2-8924-27f5c8a20f6c",
   "metadata": {},
   "outputs": [
    {
     "data": {
      "text/plain": [
       "'hello world'"
      ]
     },
     "execution_count": 45,
     "metadata": {},
     "output_type": "execute_result"
    }
   ],
   "source": [
    "#lower\n",
    "'HELLO WORLD'.lower()"
   ]
  },
  {
   "cell_type": "code",
   "execution_count": 46,
   "id": "879970c2-4fb8-4b12-b208-8abb2de3bc59",
   "metadata": {},
   "outputs": [
    {
     "data": {
      "text/plain": [
       "'hELlo woRLd'"
      ]
     },
     "execution_count": 46,
     "metadata": {},
     "output_type": "execute_result"
    }
   ],
   "source": [
    "#Swapcase\n",
    "'HelLO WOrlD'.swapcase()"
   ]
  },
  {
   "cell_type": "markdown",
   "id": "e37fd9ad-b13f-4f60-bb9c-d4003574a532",
   "metadata": {},
   "source": [
    "## Count/Find/Index"
   ]
  },
  {
   "cell_type": "code",
   "execution_count": 47,
   "id": "3c93011b-1c4e-4bb3-b5ca-71a639aa627d",
   "metadata": {},
   "outputs": [
    {
     "data": {
      "text/plain": [
       "2"
      ]
     },
     "execution_count": 47,
     "metadata": {},
     "output_type": "execute_result"
    }
   ],
   "source": [
    "#count\n",
    "'my name is ankit'.count('i')"
   ]
  },
  {
   "cell_type": "code",
   "execution_count": 48,
   "id": "4ac8ee5b-1dee-418d-b6a3-ceadca66b22a",
   "metadata": {},
   "outputs": [
    {
     "data": {
      "text/plain": [
       "8"
      ]
     },
     "execution_count": 48,
     "metadata": {},
     "output_type": "execute_result"
    }
   ],
   "source": [
    "'my name is ankit'.find('is')"
   ]
  },
  {
   "cell_type": "code",
   "execution_count": 50,
   "id": "b9a1d2d9-3b7d-4b03-8ad6-55b91ca43da0",
   "metadata": {},
   "outputs": [
    {
     "data": {
      "text/plain": [
       "-1"
      ]
     },
     "execution_count": 50,
     "metadata": {},
     "output_type": "execute_result"
    }
   ],
   "source": [
    "'my name is ankit'.find('z')"
   ]
  },
  {
   "cell_type": "code",
   "execution_count": 49,
   "id": "c9a0e9fb-9412-46a5-8d7e-d0cb92cf5b91",
   "metadata": {},
   "outputs": [
    {
     "data": {
      "text/plain": [
       "8"
      ]
     },
     "execution_count": 49,
     "metadata": {},
     "output_type": "execute_result"
    }
   ],
   "source": [
    "'my name is ankit'.index('is')"
   ]
  },
  {
   "cell_type": "code",
   "execution_count": 51,
   "id": "53b105ab-978d-4b65-a29c-4e6998cfd022",
   "metadata": {},
   "outputs": [
    {
     "ename": "ValueError",
     "evalue": "substring not found",
     "output_type": "error",
     "traceback": [
      "\u001b[1;31m---------------------------------------------------------------------------\u001b[0m",
      "\u001b[1;31mValueError\u001b[0m                                Traceback (most recent call last)",
      "Cell \u001b[1;32mIn[51], line 1\u001b[0m\n\u001b[1;32m----> 1\u001b[0m \u001b[38;5;124m'\u001b[39m\u001b[38;5;124mmy name is ankit\u001b[39m\u001b[38;5;124m'\u001b[39m\u001b[38;5;241m.\u001b[39mindex(\u001b[38;5;124m'\u001b[39m\u001b[38;5;124mz\u001b[39m\u001b[38;5;124m'\u001b[39m)\n",
      "\u001b[1;31mValueError\u001b[0m: substring not found"
     ]
    }
   ],
   "source": [
    "'my name is ankit'.index('z')"
   ]
  },
  {
   "cell_type": "markdown",
   "id": "a3b9e198-daf1-4e10-9a4f-302c524745e5",
   "metadata": {},
   "source": [
    "## endswith/startswith"
   ]
  },
  {
   "cell_type": "code",
   "execution_count": 53,
   "id": "d096a91e-b8e7-4495-8c9b-0627fc5e7b2b",
   "metadata": {},
   "outputs": [
    {
     "data": {
      "text/plain": [
       "True"
      ]
     },
     "execution_count": 53,
     "metadata": {},
     "output_type": "execute_result"
    }
   ],
   "source": [
    "'my name is ankit'.endswith('it')"
   ]
  },
  {
   "cell_type": "code",
   "execution_count": 54,
   "id": "45aa9971-eda8-4b49-bbf5-1091e5298c16",
   "metadata": {},
   "outputs": [
    {
     "data": {
      "text/plain": [
       "False"
      ]
     },
     "execution_count": 54,
     "metadata": {},
     "output_type": "execute_result"
    }
   ],
   "source": [
    "'my name is ankit'.endswith('its')"
   ]
  },
  {
   "cell_type": "code",
   "execution_count": 56,
   "id": "c1d0a026-1068-45bc-92b9-672381540780",
   "metadata": {},
   "outputs": [
    {
     "data": {
      "text/plain": [
       "True"
      ]
     },
     "execution_count": 56,
     "metadata": {},
     "output_type": "execute_result"
    }
   ],
   "source": [
    "'my name is ankit'.startswith('my')"
   ]
  },
  {
   "cell_type": "markdown",
   "id": "04727c93-cf3a-4bda-a604-81d6fa1b49bf",
   "metadata": {},
   "source": [
    "## format"
   ]
  },
  {
   "cell_type": "code",
   "execution_count": 57,
   "id": "0f73a42f-5bb0-448c-90ee-55c88ecb375c",
   "metadata": {},
   "outputs": [
    {
     "data": {
      "text/plain": [
       "'Hi my name is ankit and I am a male'"
      ]
     },
     "execution_count": 57,
     "metadata": {},
     "output_type": "execute_result"
    }
   ],
   "source": [
    "name = 'ankit'\n",
    "gender = 'male'\n",
    "\n",
    "'Hi my name is {} and I am a {}'.format(name,gender)"
   ]
  },
  {
   "cell_type": "code",
   "execution_count": 58,
   "id": "a5abf1e4-964f-4b4d-8174-ff1144c69abb",
   "metadata": {},
   "outputs": [
    {
     "data": {
      "text/plain": [
       "'Hi my name is ankit and I am a male'"
      ]
     },
     "execution_count": 58,
     "metadata": {},
     "output_type": "execute_result"
    }
   ],
   "source": [
    "name = 'ankit'\n",
    "gender = 'male'\n",
    "\n",
    "'Hi my name is {1} and I am a {0}'.format(gender,name)"
   ]
  },
  {
   "cell_type": "markdown",
   "id": "ff046990-7f45-4105-b68d-27d0a9291822",
   "metadata": {},
   "source": [
    "## isalnum/isalpha/isdigit/isidentifier"
   ]
  },
  {
   "cell_type": "code",
   "execution_count": 60,
   "id": "46ab015c-73c3-4c45-a778-23a690d3b5da",
   "metadata": {},
   "outputs": [
    {
     "data": {
      "text/plain": [
       "True"
      ]
     },
     "execution_count": 60,
     "metadata": {},
     "output_type": "execute_result"
    }
   ],
   "source": [
    "'ankit012'.isalnum()"
   ]
  },
  {
   "cell_type": "code",
   "execution_count": 61,
   "id": "b62f6c5d-6975-46ff-b38c-04674214d678",
   "metadata": {},
   "outputs": [
    {
     "data": {
      "text/plain": [
       "False"
      ]
     },
     "execution_count": 61,
     "metadata": {},
     "output_type": "execute_result"
    }
   ],
   "source": [
    "'ankit012@'.isalnum()"
   ]
  },
  {
   "cell_type": "code",
   "execution_count": 62,
   "id": "34f54901-01c2-468d-bd89-872b8ceb03c8",
   "metadata": {},
   "outputs": [
    {
     "data": {
      "text/plain": [
       "False"
      ]
     },
     "execution_count": 62,
     "metadata": {},
     "output_type": "execute_result"
    }
   ],
   "source": [
    "'ankit012'.isalpha()"
   ]
  },
  {
   "cell_type": "code",
   "execution_count": 63,
   "id": "64fa59cd-06ac-444a-8d3f-0d9ed18731c4",
   "metadata": {},
   "outputs": [
    {
     "data": {
      "text/plain": [
       "True"
      ]
     },
     "execution_count": 63,
     "metadata": {},
     "output_type": "execute_result"
    }
   ],
   "source": [
    "'ankit'.isalpha()"
   ]
  },
  {
   "cell_type": "code",
   "execution_count": 64,
   "id": "d2648308-c9b1-4f73-8586-fc1598633945",
   "metadata": {},
   "outputs": [
    {
     "data": {
      "text/plain": [
       "False"
      ]
     },
     "execution_count": 64,
     "metadata": {},
     "output_type": "execute_result"
    }
   ],
   "source": [
    "'ankit012'.isdigit()"
   ]
  },
  {
   "cell_type": "code",
   "execution_count": 65,
   "id": "4899da85-e7b4-41fc-9711-bce925a4b1ff",
   "metadata": {},
   "outputs": [
    {
     "data": {
      "text/plain": [
       "True"
      ]
     },
     "execution_count": 65,
     "metadata": {},
     "output_type": "execute_result"
    }
   ],
   "source": [
    "'012'.isdigit()"
   ]
  },
  {
   "cell_type": "code",
   "execution_count": 67,
   "id": "94ccb7b7-f336-4097-9cd7-ce567d842f07",
   "metadata": {},
   "outputs": [
    {
     "data": {
      "text/plain": [
       "False"
      ]
     },
     "execution_count": 67,
     "metadata": {},
     "output_type": "execute_result"
    }
   ],
   "source": [
    "'1name'.isidentifier()"
   ]
  },
  {
   "cell_type": "code",
   "execution_count": 68,
   "id": "82f36bc0-972a-4b9b-ae46-b696bbdee93d",
   "metadata": {},
   "outputs": [
    {
     "data": {
      "text/plain": [
       "True"
      ]
     },
     "execution_count": 68,
     "metadata": {},
     "output_type": "execute_result"
    }
   ],
   "source": [
    "'name1'.isidentifier()"
   ]
  },
  {
   "cell_type": "markdown",
   "id": "56d8a292-87f3-4202-94a7-93c97bcbb696",
   "metadata": {},
   "source": [
    "## Split/Join"
   ]
  },
  {
   "cell_type": "code",
   "execution_count": 69,
   "id": "4b42ef27-2d58-439f-a296-5cbd7d40f86d",
   "metadata": {},
   "outputs": [
    {
     "data": {
      "text/plain": [
       "['hi', 'my', 'name', 'is', 'ankit']"
      ]
     },
     "execution_count": 69,
     "metadata": {},
     "output_type": "execute_result"
    }
   ],
   "source": [
    "'hi my name is ankit'.split()"
   ]
  },
  {
   "cell_type": "code",
   "execution_count": 70,
   "id": "8f1f376e-1abc-4a72-b958-2fa2204569a8",
   "metadata": {},
   "outputs": [
    {
     "data": {
      "text/plain": [
       "['h', ' my name ', 's ank', 't']"
      ]
     },
     "execution_count": 70,
     "metadata": {},
     "output_type": "execute_result"
    }
   ],
   "source": [
    "'hi my name is ankit'.split('i')"
   ]
  },
  {
   "cell_type": "code",
   "execution_count": 72,
   "id": "2123fcc1-0d50-4a94-aa70-b6a847fea1d7",
   "metadata": {},
   "outputs": [
    {
     "data": {
      "text/plain": [
       "'hi my name is ankit'"
      ]
     },
     "execution_count": 72,
     "metadata": {},
     "output_type": "execute_result"
    }
   ],
   "source": [
    "' '.join(['hi', 'my', 'name', 'is', 'ankit'])"
   ]
  },
  {
   "cell_type": "code",
   "execution_count": 73,
   "id": "957215c3-1fe5-44ec-9e12-44a3ec4243bd",
   "metadata": {},
   "outputs": [
    {
     "data": {
      "text/plain": [
       "'hi-my-name-is-ankit'"
      ]
     },
     "execution_count": 73,
     "metadata": {},
     "output_type": "execute_result"
    }
   ],
   "source": [
    "'-'.join(['hi', 'my', 'name', 'is', 'ankit'])"
   ]
  },
  {
   "cell_type": "markdown",
   "id": "da5c3627-8238-4156-96e2-f507a5b09def",
   "metadata": {},
   "source": [
    "## Relpace"
   ]
  },
  {
   "cell_type": "code",
   "execution_count": 74,
   "id": "11e9b69a-567e-4536-bd21-d6e8a64ba75d",
   "metadata": {},
   "outputs": [
    {
     "data": {
      "text/plain": [
       "'hi my name is raj'"
      ]
     },
     "execution_count": 74,
     "metadata": {},
     "output_type": "execute_result"
    }
   ],
   "source": [
    "'hi my name is ankit'.replace('ankit','raj')"
   ]
  },
  {
   "cell_type": "markdown",
   "id": "53ec8eda-b503-4026-9573-8f083ea51181",
   "metadata": {},
   "source": [
    "## Strip"
   ]
  },
  {
   "cell_type": "code",
   "execution_count": 75,
   "id": "7e9f2564-a9a1-4255-a777-ca3274d95885",
   "metadata": {},
   "outputs": [
    {
     "data": {
      "text/plain": [
       "'ankit'"
      ]
     },
     "execution_count": 75,
     "metadata": {},
     "output_type": "execute_result"
    }
   ],
   "source": [
    "'ankit      '.strip()"
   ]
  },
  {
   "cell_type": "code",
   "execution_count": null,
   "id": "518e65bc-1b9c-4bad-9e58-de345e11e99e",
   "metadata": {},
   "outputs": [],
   "source": []
  }
 ],
 "metadata": {
  "kernelspec": {
   "display_name": "Python 3 (ipykernel)",
   "language": "python",
   "name": "python3"
  },
  "language_info": {
   "codemirror_mode": {
    "name": "ipython",
    "version": 3
   },
   "file_extension": ".py",
   "mimetype": "text/x-python",
   "name": "python",
   "nbconvert_exporter": "python",
   "pygments_lexer": "ipython3",
   "version": "3.12.7"
  }
 },
 "nbformat": 4,
 "nbformat_minor": 5
}
