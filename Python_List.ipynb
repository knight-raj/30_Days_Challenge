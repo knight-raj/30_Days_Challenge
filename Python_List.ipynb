{
 "cells": [
  {
   "cell_type": "markdown",
   "id": "641a5271-1dfc-4195-9b25-0b51cb12bd5d",
   "metadata": {},
   "source": [
    "## What is List\n",
    "### List is a data type where you can store multiple items unser 1 name. More technically, lists act like dynamic arrays which means you can add more items on the fly"
   ]
  },
  {
   "cell_type": "markdown",
   "id": "48116fc9-a01a-411c-b173-eaac22873371",
   "metadata": {},
   "source": [
    " ### L = [20,'ankit', 35.2,[20,30,40]]"
   ]
  },
  {
   "cell_type": "markdown",
   "id": "65f373cc-0521-4677-b604-7726ceaa1ea7",
   "metadata": {},
   "source": [
    "## Array vs Lists\n",
    "- Fixed vs Dynamic\n",
    "- Convenience --> Hetrogenous\n",
    "- speed of Execution (slow Lists)\n",
    "- Memory (Lits take of more memory)"
   ]
  },
  {
   "cell_type": "markdown",
   "id": "7c00f9e4-8f57-4629-86ef-28a817fbfb68",
   "metadata": {},
   "source": [
    "## Characteristics of a List\n",
    "- Ordered\n",
    "- Changeable/Mutable\n",
    "- can have duplicate\n",
    "- are dynamic\n",
    "- can be nested\n",
    "- items can be accessed\n",
    "- can contain any objects in Python"
   ]
  },
  {
   "cell_type": "code",
   "execution_count": 2,
   "id": "b9cc8c36-aa21-4b87-b355-ae1548adfd9f",
   "metadata": {},
   "outputs": [
    {
     "data": {
      "text/plain": [
       "False"
      ]
     },
     "execution_count": 2,
     "metadata": {},
     "output_type": "execute_result"
    }
   ],
   "source": [
    "L1 = [1,2,3]\n",
    "L2 = [3,2,1]\n",
    "\n",
    "L1 == L2"
   ]
  },
  {
   "cell_type": "markdown",
   "id": "b84a733d-fbc1-42b5-b265-e1a9ff06486c",
   "metadata": {},
   "source": [
    "## Creating List"
   ]
  },
  {
   "cell_type": "code",
   "execution_count": 21,
   "id": "3d61f0fb-97ed-4d72-9eaa-e5d6c1706d9e",
   "metadata": {},
   "outputs": [
    {
     "name": "stdout",
     "output_type": "stream",
     "text": [
      "[]\n",
      "[1, 2, 3, 4, 5]\n",
      "[1, 2, 3, 4, [5, 6]]\n",
      "[[[1, 2], [3, 4]], [[5, 6], [7, 8]]]\n",
      "[1, True, 5.6, (5+6j), 'Hello']\n",
      "['H', 'e', 'l', 'l', 'o']\n"
     ]
    }
   ],
   "source": [
    "# Empty List\n",
    "print([])\n",
    "\n",
    "# 1D  -> Homo\n",
    "print([1,2,3,4,5])\n",
    "\n",
    "# 2D\n",
    "print([1,2,3,4,[5,6]])\n",
    "\n",
    "# 3D\n",
    "print([[[1,2],[3,4]],[[5,6],[7,8]]])\n",
    "\n",
    "#Hetrogenous\n",
    "print([1,True,5.6,5+6j,'Hello'])\n",
    "\n",
    "# Using type conversion\n",
    "print(list('Hello'))\n"
   ]
  },
  {
   "cell_type": "markdown",
   "id": "bdd13851-d90a-4e4f-93cf-30ed8b0e91d4",
   "metadata": {},
   "source": [
    "## Accessing Items from a List\n",
    "- Indexing\n",
    "- Slicing"
   ]
  },
  {
   "cell_type": "code",
   "execution_count": 25,
   "id": "f3ded50b-05cd-4c56-8242-ddb7b71404ed",
   "metadata": {},
   "outputs": [
    {
     "name": "stdout",
     "output_type": "stream",
     "text": [
      "1\n",
      "4\n",
      "2\n",
      "[4, 5]\n",
      "4\n",
      "4\n",
      "5\n",
      "4\n"
     ]
    }
   ],
   "source": [
    "# Indexing\n",
    "# 1D\n",
    "L = [1,2,3,4]\n",
    "\n",
    "# positive Indexing\n",
    "print(L[0])\n",
    "print(L[3])\n",
    "\n",
    "#Negative Indexing\n",
    "print(L[-3])\n",
    "\n",
    "#2D\n",
    "M = [1,2,3,[4,5]]\n",
    "#Negative\n",
    "print(M[-1])\n",
    "print(M[-1][-2])\n",
    "\n",
    "# Positive\n",
    "print(M[3][0])\n",
    "\n",
    "N =[[[1,2],[3,4]],[[5,6],[7,8]]]\n",
    "print(N[1][0][0])\n",
    "print(N[0][1][1])"
   ]
  },
  {
   "cell_type": "code",
   "execution_count": 34,
   "id": "3b1becec-5d53-41c5-955b-cd4b3f1abd04",
   "metadata": {},
   "outputs": [
    {
     "name": "stdout",
     "output_type": "stream",
     "text": [
      "[1, 2, 3]\n",
      "[4, 5, 6]\n",
      "[1, 3, 5]\n",
      "[2, 4]\n",
      "[6, 5, 4, 3, 2, 1]\n"
     ]
    }
   ],
   "source": [
    "# Slicing\n",
    "L = [1,2,3,4,5,6]\n",
    "print(L[0:3])\n",
    "print(L[-3:])\n",
    "print(L[0::2])\n",
    "print(L[-5:-2:2])\n",
    "print(L[::-1])"
   ]
  },
  {
   "cell_type": "markdown",
   "id": "3b075eb5-de20-4eb5-bbcf-348bfcf5c6bf",
   "metadata": {},
   "source": [
    "## Adding Items to a List\n",
    "- append\n",
    "- extend\n",
    "- insert"
   ]
  },
  {
   "cell_type": "code",
   "execution_count": 35,
   "id": "72e3fea9-83c6-4fe7-b51d-89a1b7321a2c",
   "metadata": {},
   "outputs": [
    {
     "name": "stdout",
     "output_type": "stream",
     "text": [
      "[1, 2, 3, 4, 5, 6, 7]\n"
     ]
    }
   ],
   "source": [
    "# append\n",
    "L = [1,2,3,4,5,6]\n",
    "L.append(7)\n",
    "print(L)"
   ]
  },
  {
   "cell_type": "code",
   "execution_count": 38,
   "id": "027837ec-39b5-47f0-83bf-9b61b532446d",
   "metadata": {},
   "outputs": [
    {
     "name": "stdout",
     "output_type": "stream",
     "text": [
      "[1, 2, 3, 4, 5, 6, [7, 8, 9]]\n"
     ]
    }
   ],
   "source": [
    "L = [1,2,3,4,5,6]\n",
    "L.append([7,8,9])\n",
    "print(L)"
   ]
  },
  {
   "cell_type": "code",
   "execution_count": 37,
   "id": "cddb0b62-169e-4c06-b2fe-d56d0dfe438e",
   "metadata": {},
   "outputs": [
    {
     "name": "stdout",
     "output_type": "stream",
     "text": [
      "[1, 2, 3, 4, 5, 6, 7, 8, 9]\n"
     ]
    }
   ],
   "source": [
    "# extend\n",
    "L = [1,2,3,4,5,6]\n",
    "L.extend([7,8,9])\n",
    "print(L)"
   ]
  },
  {
   "cell_type": "code",
   "execution_count": 39,
   "id": "15303da4-9136-4c1d-a612-71003d71605b",
   "metadata": {},
   "outputs": [
    {
     "name": "stdout",
     "output_type": "stream",
     "text": [
      "[1, 2, 3, 4, 5, 6, 'd', 'e', 'l', 'h', 'i']\n"
     ]
    }
   ],
   "source": [
    "L = [1,2,3,4,5,6]\n",
    "L.extend('delhi')\n",
    "print(L)"
   ]
  },
  {
   "cell_type": "code",
   "execution_count": 40,
   "id": "45bc8420-0796-4424-890e-f355e882383d",
   "metadata": {},
   "outputs": [
    {
     "name": "stdout",
     "output_type": "stream",
     "text": [
      "[1, 100, 2, 3, 4, 5, 6]\n"
     ]
    }
   ],
   "source": [
    "# insert\n",
    "L = [1,2,3,4,5,6]\n",
    "L.insert(1,100)\n",
    "print(L)"
   ]
  },
  {
   "cell_type": "markdown",
   "id": "e615dd1b-1c7c-48aa-a300-700470223271",
   "metadata": {},
   "source": [
    "## Editing items in a Lists"
   ]
  },
  {
   "cell_type": "code",
   "execution_count": 42,
   "id": "6403c940-f05d-496b-9ac1-69836b1d9b92",
   "metadata": {},
   "outputs": [
    {
     "name": "stdout",
     "output_type": "stream",
     "text": [
      "[1, 2, 3, 4, 5, 600]\n"
     ]
    }
   ],
   "source": [
    "# Editing with indexing\n",
    "L = [1,2,3,4,5,6]\n",
    "L[-1] =600\n",
    "print(L)"
   ]
  },
  {
   "cell_type": "code",
   "execution_count": 43,
   "id": "240d1419-a8cd-4706-85e5-5c3549c9a0df",
   "metadata": {},
   "outputs": [
    {
     "name": "stdout",
     "output_type": "stream",
     "text": [
      "[1, 200, 300, 400, 5, 6]\n"
     ]
    }
   ],
   "source": [
    "# Editing with slicing\n",
    "L = [1,2,3,4,5,6]\n",
    "L[1:4]=[200,300,400]\n",
    "print(L)"
   ]
  },
  {
   "cell_type": "markdown",
   "id": "3543f7a6-3360-402b-a08a-158be5373d3d",
   "metadata": {},
   "source": [
    "## Deleting items from a List\n",
    "- delete(del)\n",
    "- remove\n",
    "- pop\n",
    "- clear\n",
    "  "
   ]
  },
  {
   "cell_type": "code",
   "execution_count": 44,
   "id": "bc80b2ff-dde1-4c1e-bbf1-026397a03044",
   "metadata": {},
   "outputs": [
    {
     "name": "stdout",
     "output_type": "stream",
     "text": [
      "[1, 2, 3, 4, 5, 6]\n"
     ]
    },
    {
     "ename": "NameError",
     "evalue": "name 'L' is not defined",
     "output_type": "error",
     "traceback": [
      "\u001b[1;31m---------------------------------------------------------------------------\u001b[0m",
      "\u001b[1;31mNameError\u001b[0m                                 Traceback (most recent call last)",
      "Cell \u001b[1;32mIn[44], line 5\u001b[0m\n\u001b[0;32m      3\u001b[0m \u001b[38;5;28mprint\u001b[39m(L)\n\u001b[0;32m      4\u001b[0m \u001b[38;5;28;01mdel\u001b[39;00m L\n\u001b[1;32m----> 5\u001b[0m \u001b[38;5;28mprint\u001b[39m(L)\n",
      "\u001b[1;31mNameError\u001b[0m: name 'L' is not defined"
     ]
    }
   ],
   "source": [
    "# Del\n",
    "L = [1,2,3,4,5,6]\n",
    "print(L)\n",
    "del L\n",
    "print(L)"
   ]
  },
  {
   "cell_type": "code",
   "execution_count": 48,
   "id": "3b5d1aff-fdba-48e3-ad49-2018edf2c4ee",
   "metadata": {},
   "outputs": [
    {
     "name": "stdout",
     "output_type": "stream",
     "text": [
      "[1, 2, 3, 4, 5]\n",
      "[1, 4, 5]\n"
     ]
    }
   ],
   "source": [
    "L = [1,2,3,4,5,6]\n",
    "#indexing\n",
    "del L[-1]\n",
    "print(L)\n",
    "\n",
    "#slicing\n",
    "del L[1:3]\n",
    "print(L)"
   ]
  },
  {
   "cell_type": "code",
   "execution_count": 49,
   "id": "2684bf9d-0009-496b-a87f-c5144177b68b",
   "metadata": {},
   "outputs": [
    {
     "name": "stdout",
     "output_type": "stream",
     "text": [
      "[1, 2, 3, 4, 5]\n"
     ]
    }
   ],
   "source": [
    "# remove\n",
    "L = [1,2,3,4,5,6]\n",
    "L.remove(6)\n",
    "print(L)"
   ]
  },
  {
   "cell_type": "code",
   "execution_count": 51,
   "id": "ddf8a20e-f6b6-4fdd-b211-d18799413944",
   "metadata": {},
   "outputs": [
    {
     "name": "stdout",
     "output_type": "stream",
     "text": [
      "[2, 3, 4, 5, 6]\n"
     ]
    }
   ],
   "source": [
    "#pop\n",
    "L = [1,2,3,4,5,6]\n",
    "L.pop(0)\n",
    "print(L)"
   ]
  },
  {
   "cell_type": "code",
   "execution_count": 53,
   "id": "01523a10-67ae-4bd4-95d2-d56403b49ae5",
   "metadata": {},
   "outputs": [
    {
     "name": "stdout",
     "output_type": "stream",
     "text": [
      "[]\n"
     ]
    }
   ],
   "source": [
    "# clear\n",
    "L = [1,2,3,4,5,6]\n",
    "L.clear()\n",
    "print(L)"
   ]
  },
  {
   "cell_type": "markdown",
   "id": "99fb5a4a-5396-4d28-afda-1ef56168ae7e",
   "metadata": {},
   "source": [
    "## Operations on Lists\n",
    "- Arithmetic\n",
    "- Membership\n",
    "- Loop"
   ]
  },
  {
   "cell_type": "code",
   "execution_count": 55,
   "id": "ef250211-5104-4a4c-9d2a-ed4747ba6c92",
   "metadata": {},
   "outputs": [
    {
     "name": "stdout",
     "output_type": "stream",
     "text": [
      "[1, 2, 3, 4, 5, 6]\n",
      "[1, 2, 3, 1, 2, 3, 1, 2, 3]\n"
     ]
    }
   ],
   "source": [
    "# Arithemic (+, *)\n",
    "L1 = [1,2,3]\n",
    "L2 = [4,5,6]\n",
    "\n",
    "# Concatenation/Merging\n",
    "print(L1 + L2)\n",
    "\n",
    "print(L1*3)"
   ]
  },
  {
   "cell_type": "code",
   "execution_count": 60,
   "id": "5e0bffce-b3fa-4483-a174-296fa26fdfba",
   "metadata": {},
   "outputs": [
    {
     "name": "stdout",
     "output_type": "stream",
     "text": [
      "True\n",
      "False\n",
      "False\n",
      "True\n"
     ]
    }
   ],
   "source": [
    "# Membership\n",
    "L1 = [1,2,3,4,5]\n",
    "L2 = [1,2,3,4,[5,6]]\n",
    "\n",
    "print(5 in L1)\n",
    "print(5 not in L1)\n",
    "print( 5 in L2)\n",
    "print([5,6] in L2)"
   ]
  },
  {
   "cell_type": "code",
   "execution_count": 63,
   "id": "d497e45f-3017-48b7-849c-e88104586c1b",
   "metadata": {},
   "outputs": [
    {
     "name": "stdout",
     "output_type": "stream",
     "text": [
      "1\n",
      "2\n",
      "3\n",
      "4\n",
      "5\n",
      "1\n",
      "2\n",
      "3\n",
      "4\n",
      "[5, 6]\n",
      "[[1, 2], [3, 4]]\n",
      "[[5, 6], [7, 8]]\n"
     ]
    }
   ],
   "source": [
    "# loop\n",
    "L1 = [1,2,3,4,5]\n",
    "L2 = [1,2,3,4,[5,6]]\n",
    "L3 =[[[1,2],[3,4]],[[5,6],[7,8]]]\n",
    "\n",
    "for i in L1:\n",
    "    print(i)\n",
    "\n",
    "for i in L2:\n",
    "    print(i)\n",
    "\n",
    "for i in L3:\n",
    "    print(i)"
   ]
  },
  {
   "cell_type": "markdown",
   "id": "37e130f9-0239-414d-881a-3ea6eff5da14",
   "metadata": {},
   "source": [
    "## List Functions\n",
    "- len/min/max/sorted\n",
    "- count\n",
    "- index\n",
    "- reverse\n",
    "- sort (vs sorted)\n",
    "- copy\n",
    "  "
   ]
  },
  {
   "cell_type": "code",
   "execution_count": 65,
   "id": "f2d87413-60b2-4edd-9b06-a6fb57ae16d5",
   "metadata": {},
   "outputs": [
    {
     "name": "stdout",
     "output_type": "stream",
     "text": [
      "7\n",
      "1\n",
      "9\n",
      "[1, 2, 3, 4, 5, 8, 9]\n"
     ]
    }
   ],
   "source": [
    "#len/min/max/sorted\n",
    "L = [1,2,3,9,8,4,5]\n",
    "print(len(L))\n",
    "print(min(L))\n",
    "print(max(L))\n",
    "print(sorted(L))"
   ]
  },
  {
   "cell_type": "code",
   "execution_count": 67,
   "id": "5f4d2ca7-4e3b-4158-81fa-00d843cb1ca7",
   "metadata": {},
   "outputs": [
    {
     "data": {
      "text/plain": [
       "3"
      ]
     },
     "execution_count": 67,
     "metadata": {},
     "output_type": "execute_result"
    }
   ],
   "source": [
    "#count\n",
    "L = [1,2,1,2,3,3,1]\n",
    "L.count(1)"
   ]
  },
  {
   "cell_type": "code",
   "execution_count": 69,
   "id": "634100cd-3f13-4357-a362-60753eb6065a",
   "metadata": {},
   "outputs": [
    {
     "data": {
      "text/plain": [
       "3"
      ]
     },
     "execution_count": 69,
     "metadata": {},
     "output_type": "execute_result"
    }
   ],
   "source": [
    "# index\n",
    "L = [1,2,3,9,8,4,5]\n",
    "L.index(9)"
   ]
  },
  {
   "cell_type": "code",
   "execution_count": 71,
   "id": "2c789b5a-ea75-458e-9cb0-a4db58f48199",
   "metadata": {},
   "outputs": [
    {
     "name": "stdout",
     "output_type": "stream",
     "text": [
      "[5, 4, 3, 2, 1]\n"
     ]
    }
   ],
   "source": [
    "# reverse\n",
    "L = [1,2,3,4,5]\n",
    "#permanently reverses the list\n",
    "L.reverse()\n",
    "print(L)"
   ]
  },
  {
   "cell_type": "code",
   "execution_count": 74,
   "id": "7c08e201-4edc-425c-a3bd-99fd9eb9d2b6",
   "metadata": {},
   "outputs": [
    {
     "name": "stdout",
     "output_type": "stream",
     "text": [
      "[1, 2, 3, 9, 8, 4, 5]\n",
      "[1, 2, 3, 4, 5, 8, 9]\n",
      "[1, 2, 3, 9, 8, 4, 5]\n",
      "[1, 2, 3, 4, 5, 8, 9]\n"
     ]
    }
   ],
   "source": [
    "# sort vs sorted\n",
    "L = [1,2,3,9,8,4,5]\n",
    "print(L)\n",
    "print(sorted(L))\n",
    "print(L)\n",
    "L.sort()\n",
    "#permanently sort\n",
    "print(L)"
   ]
  },
  {
   "cell_type": "code",
   "execution_count": 75,
   "id": "7ae8d03a-56f4-4453-b7a0-cf3b978a4d99",
   "metadata": {},
   "outputs": [
    {
     "name": "stdout",
     "output_type": "stream",
     "text": [
      "[1, 2, 3, 9, 8, 4, 5]\n",
      "1289700967808\n",
      "[1, 2, 3, 9, 8, 4, 5]\n",
      "1289700866944\n"
     ]
    }
   ],
   "source": [
    "# copy --> sallow\n",
    "L = [1,2,3,9,8,4,5]\n",
    "print(L)\n",
    "print(id(L))\n",
    "L1 = L.copy()\n",
    "print(L1)\n",
    "print(id(L1))"
   ]
  },
  {
   "cell_type": "markdown",
   "id": "17e232ea-2b2a-474a-b8cb-7bb7e537c81e",
   "metadata": {},
   "source": [
    "## List Comprehension\n",
    "### List Comprehension provides a concise way of crearting lists\n",
    "### newlist = [expression for item in iterable if condition == True]\n",
    "\n",
    "### Advantage of the list Comprehension\n",
    "- More time-efficient and space-efficient than loops\n",
    "- Require fewer lines of code\n",
    "- Transforms iterative statement into a formula"
   ]
  },
  {
   "cell_type": "code",
   "execution_count": 76,
   "id": "9ddb5c88-5683-4d39-a688-42ec0c6cf388",
   "metadata": {},
   "outputs": [
    {
     "name": "stdout",
     "output_type": "stream",
     "text": [
      "[1, 2, 3, 4, 5, 6, 7, 8, 9, 10]\n"
     ]
    }
   ],
   "source": [
    "# Add 1 to 10 numbers to a list\n",
    "L = []\n",
    "for i in range(1,11):\n",
    "    L.append(i)\n",
    "print(L)\n"
   ]
  },
  {
   "cell_type": "code",
   "execution_count": 77,
   "id": "2a56fc0a-c237-4a2c-8731-4c0fc9cd8b5f",
   "metadata": {},
   "outputs": [
    {
     "name": "stdout",
     "output_type": "stream",
     "text": [
      "[1, 2, 3, 4, 5, 6, 7, 8, 9, 10]\n"
     ]
    }
   ],
   "source": [
    "L = [i for i in range(1,11)]\n",
    "print(L)"
   ]
  },
  {
   "cell_type": "code",
   "execution_count": 78,
   "id": "ce7cef8c-8062-47a4-a3d6-537c8c7570b6",
   "metadata": {},
   "outputs": [
    {
     "data": {
      "text/plain": [
       "[-6, -9, -12]"
      ]
     },
     "execution_count": 78,
     "metadata": {},
     "output_type": "execute_result"
    }
   ],
   "source": [
    "# scalar mutiplication on a vector\n",
    "v = [2,3,4]\n",
    "s =-3\n",
    "\n",
    "[s*i for i in v]"
   ]
  },
  {
   "cell_type": "code",
   "execution_count": 80,
   "id": "ade7f912-e1d7-43a6-bc3b-2787d5740ff0",
   "metadata": {},
   "outputs": [
    {
     "data": {
      "text/plain": [
       "[1, 4, 9, 16, 25]"
      ]
     },
     "execution_count": 80,
     "metadata": {},
     "output_type": "execute_result"
    }
   ],
   "source": [
    "# Add squares\n",
    "L = [1,2,3,4,5]\n",
    "\n",
    "[i**2 for i in L]"
   ]
  },
  {
   "cell_type": "code",
   "execution_count": 81,
   "id": "bc0a7554-77e1-4e6f-b5cf-adf10fcdbe8e",
   "metadata": {},
   "outputs": [
    {
     "data": {
      "text/plain": [
       "[5, 10, 15, 20, 25, 30, 35, 40, 45, 50]"
      ]
     },
     "execution_count": 81,
     "metadata": {},
     "output_type": "execute_result"
    }
   ],
   "source": [
    "#print all numbers divisible by 5 in the range of 1 to 50\n",
    "\n",
    "[i for i in range(1,51) if i%5==0]"
   ]
  },
  {
   "cell_type": "code",
   "execution_count": 83,
   "id": "ef60e6f6-5b72-454d-ba97-22ccd0d9755c",
   "metadata": {},
   "outputs": [
    {
     "data": {
      "text/plain": [
       "['python', 'php']"
      ]
     },
     "execution_count": 83,
     "metadata": {},
     "output_type": "execute_result"
    }
   ],
   "source": [
    "# find language which start with letter p\n",
    "language = ['java','python','php','c','javascript']\n",
    "\n",
    "[language for language in language if language.startswith('p')]"
   ]
  },
  {
   "cell_type": "code",
   "execution_count": 86,
   "id": "f50b7b11-d54f-428e-8585-2844d8a11392",
   "metadata": {},
   "outputs": [
    {
     "data": {
      "text/plain": [
       "['apple']"
      ]
     },
     "execution_count": 86,
     "metadata": {},
     "output_type": "execute_result"
    }
   ],
   "source": [
    "# Nested if with List Comprehension\n",
    "basket = ['apple','guava','cherry','banana']\n",
    "my_fruits = ['apple','kiwi','grapes','banana']\n",
    "\n",
    "# add new list from my_fruits and items if the fruit exists in basket and aslo satrts with a\n",
    "[fruit for fruit in my_fruits if fruit in basket if fruit.startswith('a')]"
   ]
  },
  {
   "cell_type": "code",
   "execution_count": 87,
   "id": "149cddcf-eab6-409e-8a4e-f6d88b4e9955",
   "metadata": {},
   "outputs": [
    {
     "data": {
      "text/plain": [
       "[[1, 2, 3], [2, 4, 6], [3, 6, 9]]"
      ]
     },
     "execution_count": 87,
     "metadata": {},
     "output_type": "execute_result"
    }
   ],
   "source": [
    "# Print a (3,3) matrix using list comprehension -> Nested list comprehension\n",
    "[[i*j for i in range(1,4)] for j in range(1,4)]"
   ]
  },
  {
   "cell_type": "code",
   "execution_count": 88,
   "id": "6ed312f8-330b-43e8-8089-8d62b03ac27d",
   "metadata": {},
   "outputs": [
    {
     "data": {
      "text/plain": [
       "[5, 6, 7, 8, 10, 12, 14, 16, 15, 18, 21, 24, 20, 24, 28, 32]"
      ]
     },
     "execution_count": 88,
     "metadata": {},
     "output_type": "execute_result"
    }
   ],
   "source": [
    "#cartesian products -> List comprehension on 2 lists together\n",
    "L1 = [1,2,3,4]\n",
    "L2 = [5,6,7,8]\n",
    "\n",
    "[i*j for i in L1 for j in L2]"
   ]
  },
  {
   "cell_type": "markdown",
   "id": "51d3520c-d554-4bc2-b51f-ffe59f5fb47a",
   "metadata": {},
   "source": [
    "## 2 ways to traverse a list\n",
    "- itemwise\n",
    "- indexwise"
   ]
  },
  {
   "cell_type": "code",
   "execution_count": 89,
   "id": "c0659c25-5ac8-4ebf-be78-6661e4f85ed0",
   "metadata": {},
   "outputs": [
    {
     "name": "stdout",
     "output_type": "stream",
     "text": [
      "1\n",
      "2\n",
      "3\n",
      "4\n"
     ]
    }
   ],
   "source": [
    "# itemwise\n",
    "L = [1,2,3,4]\n",
    "for i in L:\n",
    "    print(i)"
   ]
  },
  {
   "cell_type": "code",
   "execution_count": 92,
   "id": "44905f6f-c03e-4cb8-bef2-8d4eb0421352",
   "metadata": {
    "scrolled": true
   },
   "outputs": [
    {
     "name": "stdout",
     "output_type": "stream",
     "text": [
      "1\n",
      "2\n",
      "3\n",
      "4\n"
     ]
    }
   ],
   "source": [
    "L = [1,2,3,4]\n",
    "\n",
    "for i  in range(0,len(L)):\n",
    "    print(L[i])"
   ]
  },
  {
   "cell_type": "markdown",
   "id": "7855fa10-8d18-4ab5-94c1-d21127d743a3",
   "metadata": {},
   "source": [
    "## Zip\n",
    "#### the zip() function returns a zip object, which ia an iterator of tuples where the first item in each passed iterator ia paired together, and then the secound item in each passed iterator are paired together\n",
    "#### If the passed iterators have different lengths, the iterator with the least items decides the length od the new iterator"
   ]
  },
  {
   "cell_type": "code",
   "execution_count": 94,
   "id": "a99365ef-96fd-4170-869f-67c21d221604",
   "metadata": {},
   "outputs": [
    {
     "data": {
      "text/plain": [
       "[0, 0, 0, 0]"
      ]
     },
     "execution_count": 94,
     "metadata": {},
     "output_type": "execute_result"
    }
   ],
   "source": [
    "# write a program to add items of 2 lists indexwise\n",
    "L1 =  [1,2,3,4]\n",
    "L2 = [-1,-2,-3,-4]\n",
    "\n",
    "list(zip(L1,L2))\n",
    "\n",
    "[i+j for i,j in zip(L1,L2)]"
   ]
  },
  {
   "cell_type": "code",
   "execution_count": 95,
   "id": "df3c4ff4-733e-47b2-8edd-44eb05c92ecd",
   "metadata": {},
   "outputs": [
    {
     "name": "stdout",
     "output_type": "stream",
     "text": [
      "[1, 2, <built-in function print>, <class 'type'>, <bound method Kernel.raw_input of <ipykernel.ipkernel.IPythonKernel object at 0x0000012C444FCFB0>>]\n"
     ]
    }
   ],
   "source": [
    "L = [1,2,print,type,input]\n",
    "\n",
    "print(L)"
   ]
  },
  {
   "cell_type": "markdown",
   "id": "16766187-a317-4ab8-a5a9-8f1bbf8db8f6",
   "metadata": {},
   "source": [
    "## Disadvantages of python List\n",
    "- Slow\n",
    "- Risky usage\n",
    "- eats up more memory"
   ]
  },
  {
   "cell_type": "code",
   "execution_count": 98,
   "id": "6f286a5d-f815-4821-88a0-e9a8e9e7efd4",
   "metadata": {},
   "outputs": [
    {
     "name": "stdout",
     "output_type": "stream",
     "text": [
      "[1, 2, 3, 4]\n",
      "[1, 2, 3, 4]\n",
      "[1, 2, 3, 4, 4]\n",
      "[1, 2, 3, 4]\n"
     ]
    }
   ],
   "source": [
    "a =[1,2,3,4]\n",
    "b = a.copy()\n",
    "print(a)\n",
    "print(b)\n",
    "\n",
    "a.append(4)\n",
    "print(a)\n",
    "print(b)\n",
    "\n",
    "# lists are mutable"
   ]
  },
  {
   "cell_type": "code",
   "execution_count": null,
   "id": "3dd2e1a2-1b18-4a6d-ab82-ad9a11c68ca7",
   "metadata": {},
   "outputs": [],
   "source": []
  }
 ],
 "metadata": {
  "kernelspec": {
   "display_name": "Python 3 (ipykernel)",
   "language": "python",
   "name": "python3"
  },
  "language_info": {
   "codemirror_mode": {
    "name": "ipython",
    "version": 3
   },
   "file_extension": ".py",
   "mimetype": "text/x-python",
   "name": "python",
   "nbconvert_exporter": "python",
   "pygments_lexer": "ipython3",
   "version": "3.12.7"
  }
 },
 "nbformat": 4,
 "nbformat_minor": 5
}
