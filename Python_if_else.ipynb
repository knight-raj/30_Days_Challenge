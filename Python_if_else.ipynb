{
 "cells": [
  {
   "cell_type": "markdown",
   "id": "c3867254-0f59-4951-a47b-4639a4266426",
   "metadata": {},
   "source": [
    "# If-else"
   ]
  },
  {
   "cell_type": "code",
   "execution_count": 1,
   "id": "ca953c3f-edf7-4141-95ba-85363623cda8",
   "metadata": {},
   "outputs": [
    {
     "name": "stdin",
     "output_type": "stream",
     "text": [
      "Enter youe email else:     print('Beta Tumse na ho payega')\n",
      "Enter your password \n"
     ]
    },
    {
     "name": "stdout",
     "output_type": "stream",
     "text": [
      "Not Correct\n"
     ]
    }
   ],
   "source": [
    "#login program and insentation\n",
    "# email -> raj0312@gmial.com\n",
    "# password -> 1234\n",
    "\n",
    "email = input('Enter youe email')\n",
    "password = input('Enter your password')\n",
    "\n",
    "if email == 'raj0312@gmial.com' and password == '1234':\n",
    "    print('welcome')\n",
    "else:\n",
    "    print('Not Correct')"
   ]
  },
  {
   "cell_type": "code",
   "execution_count": 7,
   "id": "29580ae4-6662-4188-979b-c127f07660e6",
   "metadata": {},
   "outputs": [
    {
     "name": "stdin",
     "output_type": "stream",
     "text": [
      "Enter youe email raj0312@gmial.com\n",
      "Enter your password 123\n"
     ]
    },
    {
     "name": "stdout",
     "output_type": "stream",
     "text": [
      "Incorrect password\n"
     ]
    },
    {
     "name": "stdin",
     "output_type": "stream",
     "text": [
      "Enter your password again 1234\n"
     ]
    },
    {
     "name": "stdout",
     "output_type": "stream",
     "text": [
      "Welcome, Finally\n"
     ]
    }
   ],
   "source": [
    "email = input('Enter youe email')\n",
    "password = input('Enter your password')\n",
    "\n",
    "if email == 'raj0312@gmial.com' and password == '1234':\n",
    "    print('welcome')\n",
    "elif email == 'raj0312@gmial.com' and password != '1234':\n",
    "    print('Incorrect password' )\n",
    "    password = input('Enter your password again')\n",
    "    if password == '1234':\n",
    "        print('Welcome, Finally')\n",
    "    else:\n",
    "        print('Beta Tumse na ho payega')\n",
    "else:\n",
    "    print('Email Not Correct')"
   ]
  },
  {
   "cell_type": "code",
   "execution_count": null,
   "id": "2ec06806-9db8-4e5a-a3cd-a688cfe5c72c",
   "metadata": {},
   "outputs": [],
   "source": []
  }
 ],
 "metadata": {
  "kernelspec": {
   "display_name": "Python 3 (ipykernel)",
   "language": "python",
   "name": "python3"
  },
  "language_info": {
   "codemirror_mode": {
    "name": "ipython",
    "version": 3
   },
   "file_extension": ".py",
   "mimetype": "text/x-python",
   "name": "python",
   "nbconvert_exporter": "python",
   "pygments_lexer": "ipython3",
   "version": "3.12.7"
  }
 },
 "nbformat": 4,
 "nbformat_minor": 5
}
